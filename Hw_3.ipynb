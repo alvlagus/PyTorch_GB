{
 "cells": [
  {
   "cell_type": "markdown",
   "metadata": {
    "id": "5RjK8hGUH-r0"
   },
   "source": [
    "# Фреймворк PyTorch для разработки искусственных нейронных сетей\n",
    "## Урок 2. Feed-forward neural network"
   ]
  },
  {
   "cell_type": "markdown",
   "metadata": {
    "id": "LKTc--aBHZZM"
   },
   "source": [
    "### <b>Практическое задание:</b> <br>\n",
    "<ol>\n",
    "<li>Создать Dataset для загрузки данных (sklearn.datasets.fetch_california_housing) </li>\n",
    "<li> Обернуть его в Dataloader </li>\n",
    "<li> Написать архитектуру сети, которая предсказывает стоимость недвижимости. Сеть должна включать BatchNorm слои и Dropout (или НЕ включать, но нужно обосновать) </li>\n",
    "<li> Сравните сходимость Adam, RMSProp и SGD, сделайте вывод по качеству работы модели </li>\n",
    "</ol>\n",
    "train-test разделение нужно сделать с помощью sklearn random_state=13, test_size = 0.25\n"
   ]
  },
  {
   "cell_type": "markdown",
   "metadata": {
    "id": "X3GSJ0XwOATV"
   },
   "source": [
    "## 1. Загрузка библиотек"
   ]
  },
  {
   "cell_type": "code",
   "execution_count": 5,
   "metadata": {
    "id": "LA5Wlq_MHbBy"
   },
   "outputs": [],
   "source": [
    "import torch\n",
    "import numpy as np\n",
    "import pandas as pd\n",
    "import torch.nn as nn\n",
    "import torch.nn.functional as F\n",
    "import matplotlib.pyplot as plt\n",
    "from sklearn.model_selection import train_test_split\n",
    "from sklearn.datasets import fetch_california_housing\n",
    "from sklearn.preprocessing import StandardScaler\n",
    "from torch import optim"
   ]
  },
  {
   "cell_type": "markdown",
   "metadata": {
    "id": "ili6QHV0OJFU"
   },
   "source": [
    "## 2. Загрузка данных"
   ]
  },
  {
   "cell_type": "code",
   "execution_count": 6,
   "metadata": {
    "id": "2hd4kwuVKDTK"
   },
   "outputs": [],
   "source": [
    "data = fetch_california_housing()\n",
    "df = pd.DataFrame(data.data, columns=data.feature_names)\n",
    "df['target'] = data.target\n",
    "\n",
    "X, y = fetch_california_housing(return_X_y=True)\n",
    "X_train, X_test, y_train, y_test = train_test_split(data.data, data.target[..., np.newaxis], test_size=0.25, random_state=13)"
   ]
  },
  {
   "cell_type": "code",
   "execution_count": 7,
   "metadata": {
    "colab": {
     "base_uri": "https://localhost:8080/",
     "height": 206
    },
    "id": "HWsSQxEFNpc-",
    "outputId": "b5483115-c1a2-4110-d1ac-90b2f600ac57"
   },
   "outputs": [
    {
     "data": {
      "text/html": [
       "\n",
       "  <div id=\"df-9b7efde7-a322-44a5-a45f-f9afc69257fc\">\n",
       "    <div class=\"colab-df-container\">\n",
       "      <div>\n",
       "<style scoped>\n",
       "    .dataframe tbody tr th:only-of-type {\n",
       "        vertical-align: middle;\n",
       "    }\n",
       "\n",
       "    .dataframe tbody tr th {\n",
       "        vertical-align: top;\n",
       "    }\n",
       "\n",
       "    .dataframe thead th {\n",
       "        text-align: right;\n",
       "    }\n",
       "</style>\n",
       "<table border=\"1\" class=\"dataframe\">\n",
       "  <thead>\n",
       "    <tr style=\"text-align: right;\">\n",
       "      <th></th>\n",
       "      <th>MedInc</th>\n",
       "      <th>HouseAge</th>\n",
       "      <th>AveRooms</th>\n",
       "      <th>AveBedrms</th>\n",
       "      <th>Population</th>\n",
       "      <th>AveOccup</th>\n",
       "      <th>Latitude</th>\n",
       "      <th>Longitude</th>\n",
       "      <th>target</th>\n",
       "    </tr>\n",
       "  </thead>\n",
       "  <tbody>\n",
       "    <tr>\n",
       "      <th>0</th>\n",
       "      <td>8.3252</td>\n",
       "      <td>41.0</td>\n",
       "      <td>6.984127</td>\n",
       "      <td>1.023810</td>\n",
       "      <td>322.0</td>\n",
       "      <td>2.555556</td>\n",
       "      <td>37.88</td>\n",
       "      <td>-122.23</td>\n",
       "      <td>4.526</td>\n",
       "    </tr>\n",
       "    <tr>\n",
       "      <th>1</th>\n",
       "      <td>8.3014</td>\n",
       "      <td>21.0</td>\n",
       "      <td>6.238137</td>\n",
       "      <td>0.971880</td>\n",
       "      <td>2401.0</td>\n",
       "      <td>2.109842</td>\n",
       "      <td>37.86</td>\n",
       "      <td>-122.22</td>\n",
       "      <td>3.585</td>\n",
       "    </tr>\n",
       "    <tr>\n",
       "      <th>2</th>\n",
       "      <td>7.2574</td>\n",
       "      <td>52.0</td>\n",
       "      <td>8.288136</td>\n",
       "      <td>1.073446</td>\n",
       "      <td>496.0</td>\n",
       "      <td>2.802260</td>\n",
       "      <td>37.85</td>\n",
       "      <td>-122.24</td>\n",
       "      <td>3.521</td>\n",
       "    </tr>\n",
       "    <tr>\n",
       "      <th>3</th>\n",
       "      <td>5.6431</td>\n",
       "      <td>52.0</td>\n",
       "      <td>5.817352</td>\n",
       "      <td>1.073059</td>\n",
       "      <td>558.0</td>\n",
       "      <td>2.547945</td>\n",
       "      <td>37.85</td>\n",
       "      <td>-122.25</td>\n",
       "      <td>3.413</td>\n",
       "    </tr>\n",
       "    <tr>\n",
       "      <th>4</th>\n",
       "      <td>3.8462</td>\n",
       "      <td>52.0</td>\n",
       "      <td>6.281853</td>\n",
       "      <td>1.081081</td>\n",
       "      <td>565.0</td>\n",
       "      <td>2.181467</td>\n",
       "      <td>37.85</td>\n",
       "      <td>-122.25</td>\n",
       "      <td>3.422</td>\n",
       "    </tr>\n",
       "  </tbody>\n",
       "</table>\n",
       "</div>\n",
       "      <button class=\"colab-df-convert\" onclick=\"convertToInteractive('df-9b7efde7-a322-44a5-a45f-f9afc69257fc')\"\n",
       "              title=\"Convert this dataframe to an interactive table.\"\n",
       "              style=\"display:none;\">\n",
       "        \n",
       "  <svg xmlns=\"http://www.w3.org/2000/svg\" height=\"24px\"viewBox=\"0 0 24 24\"\n",
       "       width=\"24px\">\n",
       "    <path d=\"M0 0h24v24H0V0z\" fill=\"none\"/>\n",
       "    <path d=\"M18.56 5.44l.94 2.06.94-2.06 2.06-.94-2.06-.94-.94-2.06-.94 2.06-2.06.94zm-11 1L8.5 8.5l.94-2.06 2.06-.94-2.06-.94L8.5 2.5l-.94 2.06-2.06.94zm10 10l.94 2.06.94-2.06 2.06-.94-2.06-.94-.94-2.06-.94 2.06-2.06.94z\"/><path d=\"M17.41 7.96l-1.37-1.37c-.4-.4-.92-.59-1.43-.59-.52 0-1.04.2-1.43.59L10.3 9.45l-7.72 7.72c-.78.78-.78 2.05 0 2.83L4 21.41c.39.39.9.59 1.41.59.51 0 1.02-.2 1.41-.59l7.78-7.78 2.81-2.81c.8-.78.8-2.07 0-2.86zM5.41 20L4 18.59l7.72-7.72 1.47 1.35L5.41 20z\"/>\n",
       "  </svg>\n",
       "      </button>\n",
       "      \n",
       "  <style>\n",
       "    .colab-df-container {\n",
       "      display:flex;\n",
       "      flex-wrap:wrap;\n",
       "      gap: 12px;\n",
       "    }\n",
       "\n",
       "    .colab-df-convert {\n",
       "      background-color: #E8F0FE;\n",
       "      border: none;\n",
       "      border-radius: 50%;\n",
       "      cursor: pointer;\n",
       "      display: none;\n",
       "      fill: #1967D2;\n",
       "      height: 32px;\n",
       "      padding: 0 0 0 0;\n",
       "      width: 32px;\n",
       "    }\n",
       "\n",
       "    .colab-df-convert:hover {\n",
       "      background-color: #E2EBFA;\n",
       "      box-shadow: 0px 1px 2px rgba(60, 64, 67, 0.3), 0px 1px 3px 1px rgba(60, 64, 67, 0.15);\n",
       "      fill: #174EA6;\n",
       "    }\n",
       "\n",
       "    [theme=dark] .colab-df-convert {\n",
       "      background-color: #3B4455;\n",
       "      fill: #D2E3FC;\n",
       "    }\n",
       "\n",
       "    [theme=dark] .colab-df-convert:hover {\n",
       "      background-color: #434B5C;\n",
       "      box-shadow: 0px 1px 3px 1px rgba(0, 0, 0, 0.15);\n",
       "      filter: drop-shadow(0px 1px 2px rgba(0, 0, 0, 0.3));\n",
       "      fill: #FFFFFF;\n",
       "    }\n",
       "  </style>\n",
       "\n",
       "      <script>\n",
       "        const buttonEl =\n",
       "          document.querySelector('#df-9b7efde7-a322-44a5-a45f-f9afc69257fc button.colab-df-convert');\n",
       "        buttonEl.style.display =\n",
       "          google.colab.kernel.accessAllowed ? 'block' : 'none';\n",
       "\n",
       "        async function convertToInteractive(key) {\n",
       "          const element = document.querySelector('#df-9b7efde7-a322-44a5-a45f-f9afc69257fc');\n",
       "          const dataTable =\n",
       "            await google.colab.kernel.invokeFunction('convertToInteractive',\n",
       "                                                     [key], {});\n",
       "          if (!dataTable) return;\n",
       "\n",
       "          const docLinkHtml = 'Like what you see? Visit the ' +\n",
       "            '<a target=\"_blank\" href=https://colab.research.google.com/notebooks/data_table.ipynb>data table notebook</a>'\n",
       "            + ' to learn more about interactive tables.';\n",
       "          element.innerHTML = '';\n",
       "          dataTable['output_type'] = 'display_data';\n",
       "          await google.colab.output.renderOutput(dataTable, element);\n",
       "          const docLink = document.createElement('div');\n",
       "          docLink.innerHTML = docLinkHtml;\n",
       "          element.appendChild(docLink);\n",
       "        }\n",
       "      </script>\n",
       "    </div>\n",
       "  </div>\n",
       "  "
      ],
      "text/plain": [
       "   MedInc  HouseAge  AveRooms  AveBedrms  Population  AveOccup  Latitude  \\\n",
       "0  8.3252      41.0  6.984127   1.023810       322.0  2.555556     37.88   \n",
       "1  8.3014      21.0  6.238137   0.971880      2401.0  2.109842     37.86   \n",
       "2  7.2574      52.0  8.288136   1.073446       496.0  2.802260     37.85   \n",
       "3  5.6431      52.0  5.817352   1.073059       558.0  2.547945     37.85   \n",
       "4  3.8462      52.0  6.281853   1.081081       565.0  2.181467     37.85   \n",
       "\n",
       "   Longitude  target  \n",
       "0    -122.23   4.526  \n",
       "1    -122.22   3.585  \n",
       "2    -122.24   3.521  \n",
       "3    -122.25   3.413  \n",
       "4    -122.25   3.422  "
      ]
     },
     "execution_count": 7,
     "metadata": {},
     "output_type": "execute_result"
    }
   ],
   "source": [
    "df.head()"
   ]
  },
  {
   "cell_type": "markdown",
   "metadata": {
    "id": "jwS6nKldN8Y0"
   },
   "source": [
    "## 3.  EDA"
   ]
  },
  {
   "cell_type": "code",
   "execution_count": 8,
   "metadata": {
    "colab": {
     "base_uri": "https://localhost:8080/"
    },
    "id": "KklyyKGJL96w",
    "outputId": "7ab720f7-6f1a-43a4-af0c-49ab1a87e136"
   },
   "outputs": [
    {
     "name": "stdout",
     "output_type": "stream",
     "text": [
      "<class 'pandas.core.frame.DataFrame'>\n",
      "RangeIndex: 20640 entries, 0 to 20639\n",
      "Data columns (total 9 columns):\n",
      " #   Column      Non-Null Count  Dtype  \n",
      "---  ------      --------------  -----  \n",
      " 0   MedInc      20640 non-null  float64\n",
      " 1   HouseAge    20640 non-null  float64\n",
      " 2   AveRooms    20640 non-null  float64\n",
      " 3   AveBedrms   20640 non-null  float64\n",
      " 4   Population  20640 non-null  float64\n",
      " 5   AveOccup    20640 non-null  float64\n",
      " 6   Latitude    20640 non-null  float64\n",
      " 7   Longitude   20640 non-null  float64\n",
      " 8   target      20640 non-null  float64\n",
      "dtypes: float64(9)\n",
      "memory usage: 1.4 MB\n"
     ]
    }
   ],
   "source": [
    "df.info()"
   ]
  },
  {
   "cell_type": "markdown",
   "metadata": {
    "id": "gdFyJaSnOpVz"
   },
   "source": [
    "Пропусков нет, что уже хорошо"
   ]
  },
  {
   "cell_type": "code",
   "execution_count": 9,
   "metadata": {
    "colab": {
     "base_uri": "https://localhost:8080/",
     "height": 300
    },
    "id": "y7S33vipL_t4",
    "outputId": "02b07156-28d1-4158-ceda-8935bfcfc7d3"
   },
   "outputs": [
    {
     "data": {
      "text/html": [
       "\n",
       "  <div id=\"df-4955d26c-e89b-47fd-b0be-8f22d751de2d\">\n",
       "    <div class=\"colab-df-container\">\n",
       "      <div>\n",
       "<style scoped>\n",
       "    .dataframe tbody tr th:only-of-type {\n",
       "        vertical-align: middle;\n",
       "    }\n",
       "\n",
       "    .dataframe tbody tr th {\n",
       "        vertical-align: top;\n",
       "    }\n",
       "\n",
       "    .dataframe thead th {\n",
       "        text-align: right;\n",
       "    }\n",
       "</style>\n",
       "<table border=\"1\" class=\"dataframe\">\n",
       "  <thead>\n",
       "    <tr style=\"text-align: right;\">\n",
       "      <th></th>\n",
       "      <th>MedInc</th>\n",
       "      <th>HouseAge</th>\n",
       "      <th>AveRooms</th>\n",
       "      <th>AveBedrms</th>\n",
       "      <th>Population</th>\n",
       "      <th>AveOccup</th>\n",
       "      <th>Latitude</th>\n",
       "      <th>Longitude</th>\n",
       "      <th>target</th>\n",
       "    </tr>\n",
       "  </thead>\n",
       "  <tbody>\n",
       "    <tr>\n",
       "      <th>count</th>\n",
       "      <td>20640.000000</td>\n",
       "      <td>20640.000000</td>\n",
       "      <td>20640.000000</td>\n",
       "      <td>20640.000000</td>\n",
       "      <td>20640.000000</td>\n",
       "      <td>20640.000000</td>\n",
       "      <td>20640.000000</td>\n",
       "      <td>20640.000000</td>\n",
       "      <td>20640.000000</td>\n",
       "    </tr>\n",
       "    <tr>\n",
       "      <th>mean</th>\n",
       "      <td>3.870671</td>\n",
       "      <td>28.639486</td>\n",
       "      <td>5.429000</td>\n",
       "      <td>1.096675</td>\n",
       "      <td>1425.476744</td>\n",
       "      <td>3.070655</td>\n",
       "      <td>35.631861</td>\n",
       "      <td>-119.569704</td>\n",
       "      <td>2.068558</td>\n",
       "    </tr>\n",
       "    <tr>\n",
       "      <th>std</th>\n",
       "      <td>1.899822</td>\n",
       "      <td>12.585558</td>\n",
       "      <td>2.474173</td>\n",
       "      <td>0.473911</td>\n",
       "      <td>1132.462122</td>\n",
       "      <td>10.386050</td>\n",
       "      <td>2.135952</td>\n",
       "      <td>2.003532</td>\n",
       "      <td>1.153956</td>\n",
       "    </tr>\n",
       "    <tr>\n",
       "      <th>min</th>\n",
       "      <td>0.499900</td>\n",
       "      <td>1.000000</td>\n",
       "      <td>0.846154</td>\n",
       "      <td>0.333333</td>\n",
       "      <td>3.000000</td>\n",
       "      <td>0.692308</td>\n",
       "      <td>32.540000</td>\n",
       "      <td>-124.350000</td>\n",
       "      <td>0.149990</td>\n",
       "    </tr>\n",
       "    <tr>\n",
       "      <th>25%</th>\n",
       "      <td>2.563400</td>\n",
       "      <td>18.000000</td>\n",
       "      <td>4.440716</td>\n",
       "      <td>1.006079</td>\n",
       "      <td>787.000000</td>\n",
       "      <td>2.429741</td>\n",
       "      <td>33.930000</td>\n",
       "      <td>-121.800000</td>\n",
       "      <td>1.196000</td>\n",
       "    </tr>\n",
       "    <tr>\n",
       "      <th>50%</th>\n",
       "      <td>3.534800</td>\n",
       "      <td>29.000000</td>\n",
       "      <td>5.229129</td>\n",
       "      <td>1.048780</td>\n",
       "      <td>1166.000000</td>\n",
       "      <td>2.818116</td>\n",
       "      <td>34.260000</td>\n",
       "      <td>-118.490000</td>\n",
       "      <td>1.797000</td>\n",
       "    </tr>\n",
       "    <tr>\n",
       "      <th>75%</th>\n",
       "      <td>4.743250</td>\n",
       "      <td>37.000000</td>\n",
       "      <td>6.052381</td>\n",
       "      <td>1.099526</td>\n",
       "      <td>1725.000000</td>\n",
       "      <td>3.282261</td>\n",
       "      <td>37.710000</td>\n",
       "      <td>-118.010000</td>\n",
       "      <td>2.647250</td>\n",
       "    </tr>\n",
       "    <tr>\n",
       "      <th>max</th>\n",
       "      <td>15.000100</td>\n",
       "      <td>52.000000</td>\n",
       "      <td>141.909091</td>\n",
       "      <td>34.066667</td>\n",
       "      <td>35682.000000</td>\n",
       "      <td>1243.333333</td>\n",
       "      <td>41.950000</td>\n",
       "      <td>-114.310000</td>\n",
       "      <td>5.000010</td>\n",
       "    </tr>\n",
       "  </tbody>\n",
       "</table>\n",
       "</div>\n",
       "      <button class=\"colab-df-convert\" onclick=\"convertToInteractive('df-4955d26c-e89b-47fd-b0be-8f22d751de2d')\"\n",
       "              title=\"Convert this dataframe to an interactive table.\"\n",
       "              style=\"display:none;\">\n",
       "        \n",
       "  <svg xmlns=\"http://www.w3.org/2000/svg\" height=\"24px\"viewBox=\"0 0 24 24\"\n",
       "       width=\"24px\">\n",
       "    <path d=\"M0 0h24v24H0V0z\" fill=\"none\"/>\n",
       "    <path d=\"M18.56 5.44l.94 2.06.94-2.06 2.06-.94-2.06-.94-.94-2.06-.94 2.06-2.06.94zm-11 1L8.5 8.5l.94-2.06 2.06-.94-2.06-.94L8.5 2.5l-.94 2.06-2.06.94zm10 10l.94 2.06.94-2.06 2.06-.94-2.06-.94-.94-2.06-.94 2.06-2.06.94z\"/><path d=\"M17.41 7.96l-1.37-1.37c-.4-.4-.92-.59-1.43-.59-.52 0-1.04.2-1.43.59L10.3 9.45l-7.72 7.72c-.78.78-.78 2.05 0 2.83L4 21.41c.39.39.9.59 1.41.59.51 0 1.02-.2 1.41-.59l7.78-7.78 2.81-2.81c.8-.78.8-2.07 0-2.86zM5.41 20L4 18.59l7.72-7.72 1.47 1.35L5.41 20z\"/>\n",
       "  </svg>\n",
       "      </button>\n",
       "      \n",
       "  <style>\n",
       "    .colab-df-container {\n",
       "      display:flex;\n",
       "      flex-wrap:wrap;\n",
       "      gap: 12px;\n",
       "    }\n",
       "\n",
       "    .colab-df-convert {\n",
       "      background-color: #E8F0FE;\n",
       "      border: none;\n",
       "      border-radius: 50%;\n",
       "      cursor: pointer;\n",
       "      display: none;\n",
       "      fill: #1967D2;\n",
       "      height: 32px;\n",
       "      padding: 0 0 0 0;\n",
       "      width: 32px;\n",
       "    }\n",
       "\n",
       "    .colab-df-convert:hover {\n",
       "      background-color: #E2EBFA;\n",
       "      box-shadow: 0px 1px 2px rgba(60, 64, 67, 0.3), 0px 1px 3px 1px rgba(60, 64, 67, 0.15);\n",
       "      fill: #174EA6;\n",
       "    }\n",
       "\n",
       "    [theme=dark] .colab-df-convert {\n",
       "      background-color: #3B4455;\n",
       "      fill: #D2E3FC;\n",
       "    }\n",
       "\n",
       "    [theme=dark] .colab-df-convert:hover {\n",
       "      background-color: #434B5C;\n",
       "      box-shadow: 0px 1px 3px 1px rgba(0, 0, 0, 0.15);\n",
       "      filter: drop-shadow(0px 1px 2px rgba(0, 0, 0, 0.3));\n",
       "      fill: #FFFFFF;\n",
       "    }\n",
       "  </style>\n",
       "\n",
       "      <script>\n",
       "        const buttonEl =\n",
       "          document.querySelector('#df-4955d26c-e89b-47fd-b0be-8f22d751de2d button.colab-df-convert');\n",
       "        buttonEl.style.display =\n",
       "          google.colab.kernel.accessAllowed ? 'block' : 'none';\n",
       "\n",
       "        async function convertToInteractive(key) {\n",
       "          const element = document.querySelector('#df-4955d26c-e89b-47fd-b0be-8f22d751de2d');\n",
       "          const dataTable =\n",
       "            await google.colab.kernel.invokeFunction('convertToInteractive',\n",
       "                                                     [key], {});\n",
       "          if (!dataTable) return;\n",
       "\n",
       "          const docLinkHtml = 'Like what you see? Visit the ' +\n",
       "            '<a target=\"_blank\" href=https://colab.research.google.com/notebooks/data_table.ipynb>data table notebook</a>'\n",
       "            + ' to learn more about interactive tables.';\n",
       "          element.innerHTML = '';\n",
       "          dataTable['output_type'] = 'display_data';\n",
       "          await google.colab.output.renderOutput(dataTable, element);\n",
       "          const docLink = document.createElement('div');\n",
       "          docLink.innerHTML = docLinkHtml;\n",
       "          element.appendChild(docLink);\n",
       "        }\n",
       "      </script>\n",
       "    </div>\n",
       "  </div>\n",
       "  "
      ],
      "text/plain": [
       "             MedInc      HouseAge      AveRooms     AveBedrms    Population  \\\n",
       "count  20640.000000  20640.000000  20640.000000  20640.000000  20640.000000   \n",
       "mean       3.870671     28.639486      5.429000      1.096675   1425.476744   \n",
       "std        1.899822     12.585558      2.474173      0.473911   1132.462122   \n",
       "min        0.499900      1.000000      0.846154      0.333333      3.000000   \n",
       "25%        2.563400     18.000000      4.440716      1.006079    787.000000   \n",
       "50%        3.534800     29.000000      5.229129      1.048780   1166.000000   \n",
       "75%        4.743250     37.000000      6.052381      1.099526   1725.000000   \n",
       "max       15.000100     52.000000    141.909091     34.066667  35682.000000   \n",
       "\n",
       "           AveOccup      Latitude     Longitude        target  \n",
       "count  20640.000000  20640.000000  20640.000000  20640.000000  \n",
       "mean       3.070655     35.631861   -119.569704      2.068558  \n",
       "std       10.386050      2.135952      2.003532      1.153956  \n",
       "min        0.692308     32.540000   -124.350000      0.149990  \n",
       "25%        2.429741     33.930000   -121.800000      1.196000  \n",
       "50%        2.818116     34.260000   -118.490000      1.797000  \n",
       "75%        3.282261     37.710000   -118.010000      2.647250  \n",
       "max     1243.333333     41.950000   -114.310000      5.000010  "
      ]
     },
     "execution_count": 9,
     "metadata": {},
     "output_type": "execute_result"
    }
   ],
   "source": [
    "df.describe()"
   ]
  },
  {
   "cell_type": "markdown",
   "metadata": {
    "id": "o6Y2J2t5PZ7C"
   },
   "source": [
    "## 4.  Создаем Dataset для загрузки данных"
   ]
  },
  {
   "cell_type": "code",
   "execution_count": 10,
   "metadata": {
    "id": "n_niRuUjOiCo"
   },
   "outputs": [],
   "source": [
    "class HouseDataset(torch.utils.data.Dataset):\n",
    "  \n",
    "  X_scaler = None\n",
    "  y_scaler = None\n",
    "\n",
    "  def __init__(self, data, labels, train=True):\n",
    "    self.data, self.labels = self.scaler(data, labels, train)\n",
    "\n",
    "  @classmethod\n",
    "  def scaler(cls, data, labels, train=True):\n",
    "    if train:\n",
    "      cls.X_scaler = StandardScaler()\n",
    "      cls.X_scaler.fit(data)\n",
    "      cls.y_scaler = StandardScaler()\n",
    "      cls.y_scaler.fit(labels)      \n",
    "      labels = cls.y_scaler.transform(labels)        \n",
    "\n",
    "    return cls.X_scaler.transform(data), labels\n",
    "\n",
    "  def __len__(self):\n",
    "    return len(self.data)\n",
    "\n",
    "  def __getitem__(self, idx):\n",
    "    return self.data[idx], self.labels[idx]"
   ]
  },
  {
   "cell_type": "code",
   "execution_count": 11,
   "metadata": {
    "colab": {
     "base_uri": "https://localhost:8080/"
    },
    "id": "uw2r2INdZzsv",
    "outputId": "94f9fddd-d1ce-46ad-a505-94bf04ece050"
   },
   "outputs": [
    {
     "data": {
      "text/plain": [
       "(array([-0.18148348,  0.57913684, -0.34002073, -0.00446324, -0.06538333,\n",
       "        -0.08711252, -0.67176218,  0.67560682]), array([0.53292426]))"
      ]
     },
     "execution_count": 11,
     "metadata": {},
     "output_type": "execute_result"
    }
   ],
   "source": [
    "train_dataset = HouseDataset(X_train, y_train, train=True)\n",
    "test_dataset = HouseDataset(X_test, y_test, train=False)\n",
    "train_dataset[0]"
   ]
  },
  {
   "cell_type": "markdown",
   "metadata": {
    "id": "QhZ5dwhHcqxp"
   },
   "source": [
    "## 5. Обернуть его в Dataloader"
   ]
  },
  {
   "cell_type": "code",
   "execution_count": 12,
   "metadata": {
    "id": "_kmR4UGubSO5"
   },
   "outputs": [],
   "source": [
    "train_loader = torch.utils.data.DataLoader(train_dataset,\n",
    "                                           batch_size=128,\n",
    "                                           shuffle=True,\n",
    "                                           num_workers=2)\n",
    "\n",
    "test_loader =  torch.utils.data.DataLoader(test_dataset,\n",
    "                                           batch_size=8,\n",
    "                                           shuffle=False)"
   ]
  },
  {
   "cell_type": "markdown",
   "metadata": {
    "id": "vaWBEvA2efuN"
   },
   "source": [
    "## 6. Напишем архитектуру сети, которая предсказывает стоимость недвижимости. Сеть должна включать BatchNorm слои и Dropout (или НЕ включать, но нужно обосновать)"
   ]
  },
  {
   "cell_type": "code",
   "execution_count": 15,
   "metadata": {
    "id": "KSykM8SkBrWq"
   },
   "outputs": [],
   "source": [
    "class Net(nn.Module):\n",
    "    def __init__(self, input_dim, output_dim, hidden_dim, deep, dropout):\n",
    "        super().__init__()\n",
    "        self.fc = nn.ModuleList()\n",
    "        self.bn = nn.ModuleList()\n",
    "\n",
    "        self.fc.append(nn.Linear(input_dim, 2**(deep - 2) * hidden_dim))\n",
    "        self.bn.append(nn.BatchNorm1d(2**(deep - 2) * hidden_dim))\n",
    "        for i in range(1, deep - 1):\n",
    "          self.fc.append(nn.Linear(2**(deep - 1 - i) * hidden_dim, 2**(deep - 2 - i) * hidden_dim))\n",
    "          self.bn.append(nn.BatchNorm1d(2**(deep - 2 - i) * hidden_dim))\n",
    "        self.fc.append(nn.Linear(hidden_dim, output_dim))\n",
    "\n",
    "        self.dp = nn.Dropout(dropout)\n",
    "\n",
    "    def forward(self, x):\n",
    "\n",
    "        for i in range(len(self.bn)):\n",
    "          x = self.fc[i](x)\n",
    "          x = self.bn[i](x)\n",
    "          x = torch.tanh(x)\n",
    "          x = self.dp(x)\n",
    "\n",
    "        x = self.fc[len(self.bn)](x)\n",
    "        return x"
   ]
  },
  {
   "cell_type": "code",
   "execution_count": 16,
   "metadata": {
    "id": "j-pwQ0VY96ZV"
   },
   "outputs": [],
   "source": [
    "def net_train(train_loader, test_loader, num_epochs, hidden_dim, deep, dropout, optimiz, lr, noise):\n",
    "  net = Net(8, 1, hidden_dim, deep, dropout).double()\n",
    "  net.train()\n",
    "\n",
    "  criterion = nn.MSELoss()\n",
    "\n",
    "  if optimiz == 'adam':\n",
    "    optimizer = optim.Adam(net.parameters(), lr=lr)\n",
    "\n",
    "  if optimiz == 'rmsprop':\n",
    "    optimizer = optim.RMSprop(net.parameters(), lr=lr)\n",
    "\n",
    "  if optimiz == 'sgd':\n",
    "    optimizer = optim.SGD(net.parameters(), lr=lr)\n",
    "\n",
    "  train_loss_list = []\n",
    "\n",
    "  for epoch in range(num_epochs):\n",
    "    train_loss = 0.0\n",
    "    test_loss = 0.0\n",
    "    test_mse = 0.0\n",
    "\n",
    "    for data in train_loader:\n",
    "\n",
    "      inputs, labels = data[0], data[1]\n",
    "      # Обнуляем градиент\n",
    "      optimizer.zero_grad()\n",
    "      # Делаем предсказание\n",
    "      outputs = net(inputs)\n",
    "      # Рассчитываем лосс-функцию\n",
    "      loss = criterion(outputs, labels)\n",
    "      # Делаем шаг назад по лоссу\n",
    "      loss.backward()\n",
    "      # Делаем шаг нашего оптимайзера\n",
    "      optimizer.step()\n",
    "      train_loss += loss.item()\n",
    "\n",
    "    # Расчитываем loss на test\n",
    "    for data in test_loader:\n",
    "      inputs, labels = data[0], data[1]\n",
    "      outputs = net(inputs)\n",
    "      loss = criterion(outputs, labels)\n",
    "      test_loss += loss.item()\n",
    "\n",
    "    # Расчитываем mse на test\n",
    "      with torch.no_grad():\n",
    "        outputs = HouseDataset.y_scaler.inverse_transform(outputs)\n",
    "      outputs = torch.from_numpy(outputs)\n",
    "\n",
    "      loss = criterion(outputs, labels)\n",
    "      test_mse += loss.item()\n",
    "\n",
    "    # выводим статистику о процессе обучения\n",
    "    if noise:\n",
    "      print(f'Epoch: {epoch + 1}; '\\\n",
    "            f'Train_loss: {round(train_loss / len(train_loader), 3)}; '\\\n",
    "            f'Test_loss: {round(test_loss / len(test_loader), 3)}; '\\\n",
    "            f'Test_MSE: {round(test_mse / len(test_loader), 3)}')\n",
    "    \n",
    "    train_loss_list.append(train_loss / len(train_loader))\n",
    "  \n",
    "  return net, round(test_mse / len(test_loader), 3), train_loss_list"
   ]
  },
  {
   "cell_type": "code",
   "execution_count": 17,
   "metadata": {
    "colab": {
     "base_uri": "https://localhost:8080/"
    },
    "id": "h8IauDnCtrbt",
    "outputId": "d0bd8d96-0fe5-44dc-f463-2906fab7ecfc"
   },
   "outputs": [
    {
     "name": "stdout",
     "output_type": "stream",
     "text": [
      "Epoch: 1; Train_loss: 0.399; Test_loss: 4.918; Test_MSE: 0.617\n",
      "Epoch: 2; Train_loss: 0.312; Test_loss: 4.743; Test_MSE: 0.598\n",
      "Epoch: 3; Train_loss: 0.296; Test_loss: 4.676; Test_MSE: 0.598\n",
      "Epoch: 4; Train_loss: 0.284; Test_loss: 4.771; Test_MSE: 0.569\n",
      "Epoch: 5; Train_loss: 0.278; Test_loss: 5.01; Test_MSE: 0.595\n",
      "Epoch: 6; Train_loss: 0.274; Test_loss: 4.791; Test_MSE: 0.572\n",
      "Epoch: 7; Train_loss: 0.265; Test_loss: 4.748; Test_MSE: 0.571\n",
      "Epoch: 8; Train_loss: 0.27; Test_loss: 4.654; Test_MSE: 0.575\n",
      "Epoch: 9; Train_loss: 0.256; Test_loss: 4.85; Test_MSE: 0.593\n",
      "Epoch: 10; Train_loss: 0.255; Test_loss: 4.583; Test_MSE: 0.59\n",
      "CPU times: user 11.8 s, sys: 1.21 s, total: 13 s\n",
      "Wall time: 17.2 s\n"
     ]
    }
   ],
   "source": [
    "%%time\n",
    "\n",
    "net = net_train(train_loader, test_loader, num_epochs=10, hidden_dim=40, \n",
    "                deep=4, dropout=0.1, optimiz='adam', lr=0.01, noise=True)[0]"
   ]
  },
  {
   "cell_type": "markdown",
   "metadata": {
    "id": "d9EFZ5Z8zlfz"
   },
   "source": [
    "### hidden_dim"
   ]
  },
  {
   "cell_type": "code",
   "execution_count": 18,
   "metadata": {
    "colab": {
     "base_uri": "https://localhost:8080/"
    },
    "id": "XrMZG6UhvkBd",
    "outputId": "dde22157-67fd-49a4-a67b-2b0891c528be"
   },
   "outputs": [
    {
     "name": "stdout",
     "output_type": "stream",
     "text": [
      "10 - 0.615\n",
      "20 - 0.597\n",
      "30 - 0.598\n",
      "40 - 0.581\n",
      "50 - 0.565\n",
      "75 - 0.586\n",
      "100 - 0.579\n",
      "CPU times: user 1min 25s, sys: 4.63 s, total: 1min 30s\n",
      "Wall time: 1min 53s\n"
     ]
    }
   ],
   "source": [
    "%%time\n",
    "\n",
    "hidden_dim_list = [10, 20, 30, 40, 50, 75, 100]\n",
    "\n",
    "for hidden_dim in hidden_dim_list:\n",
    "  print(hidden_dim, '-', net_train(train_loader, test_loader, num_epochs=10, hidden_dim=hidden_dim, \n",
    "                                  deep=4, dropout=0.1, optimiz='adam', lr=0.01, noise=False)[1])"
   ]
  },
  {
   "cell_type": "markdown",
   "metadata": {
    "id": "7iBU4ePn1c7o"
   },
   "source": [
    "### deep\n"
   ]
  },
  {
   "cell_type": "code",
   "execution_count": 19,
   "metadata": {
    "colab": {
     "base_uri": "https://localhost:8080/"
    },
    "id": "_weqC0FA1Fcw",
    "outputId": "2c342b8a-ce50-4875-f764-dac03bb0fb33"
   },
   "outputs": [
    {
     "name": "stdout",
     "output_type": "stream",
     "text": [
      "2 - 0.584\n",
      "3 - 0.581\n",
      "4 - 0.564\n",
      "5 - 0.636\n",
      "6 - 0.603\n",
      "CPU times: user 1min 22s, sys: 3.59 s, total: 1min 26s\n",
      "Wall time: 1min 39s\n"
     ]
    }
   ],
   "source": [
    "%%time\n",
    "\n",
    "deep_list = [2, 3, 4, 5, 6]\n",
    "\n",
    "for deep in deep_list:\n",
    "  print(deep, '-', net_train(train_loader, test_loader, num_epochs=10, hidden_dim=50, \n",
    "                                  deep=deep, dropout=0.1, optimiz='adam', lr=0.01, noise=False)[1])"
   ]
  },
  {
   "cell_type": "markdown",
   "metadata": {
    "id": "4j5Lu_Zd2CM9"
   },
   "source": [
    "### dropout"
   ]
  },
  {
   "cell_type": "code",
   "execution_count": 20,
   "metadata": {
    "colab": {
     "base_uri": "https://localhost:8080/"
    },
    "id": "-eEk2SSB19_L",
    "outputId": "b47f1bc8-80f6-492a-92f5-6450350ecfd8"
   },
   "outputs": [
    {
     "name": "stdout",
     "output_type": "stream",
     "text": [
      "0.0 - 0.54\n",
      "0.1 - 0.54\n",
      "0.2 - 0.59\n",
      "0.3 - 0.61\n",
      "0.4 - 0.594\n",
      "0.5 - 0.646\n",
      "CPU times: user 53.4 s, sys: 3.94 s, total: 57.4 s\n",
      "Wall time: 1min 8s\n"
     ]
    }
   ],
   "source": [
    "%%time\n",
    "\n",
    "dropout_list = [0.0, 0.1, 0.2, 0.3, 0.4, 0.5]\n",
    "\n",
    "for dropout in dropout_list:\n",
    "  print(dropout, '-', net_train(train_loader, test_loader, num_epochs=10, hidden_dim=50, \n",
    "                                  deep=3, dropout=dropout, optimiz='adam', lr=0.01, noise=False)[1])"
   ]
  },
  {
   "cell_type": "markdown",
   "metadata": {
    "id": "XTV3qBrA2x2L"
   },
   "source": [
    "### optimiz"
   ]
  },
  {
   "cell_type": "code",
   "execution_count": 21,
   "metadata": {
    "colab": {
     "base_uri": "https://localhost:8080/"
    },
    "id": "UX5lPtuW2uJW",
    "outputId": "03d1be84-9668-4bd2-c729-29ab562c1986"
   },
   "outputs": [
    {
     "name": "stdout",
     "output_type": "stream",
     "text": [
      "adam - 0.56\n",
      "rmsprop - 0.546\n",
      "sgd - 0.592\n",
      "CPU times: user 24.9 s, sys: 1.93 s, total: 26.8 s\n",
      "Wall time: 32.1 s\n"
     ]
    }
   ],
   "source": [
    "%%time\n",
    "\n",
    "optimiz_list = ['adam', 'rmsprop', 'sgd']\n",
    "\n",
    "for optimiz in optimiz_list:\n",
    "  print(optimiz, '-', net_train(train_loader, test_loader, num_epochs=10, hidden_dim=50, \n",
    "                                  deep=3, dropout=0.0, optimiz=optimiz, lr=0.01, noise=False)[1])"
   ]
  },
  {
   "cell_type": "markdown",
   "metadata": {
    "id": "ITfeEfzc3HKy"
   },
   "source": [
    "### lr"
   ]
  },
  {
   "cell_type": "code",
   "execution_count": 31,
   "metadata": {
    "colab": {
     "base_uri": "https://localhost:8080/"
    },
    "id": "tw0MTISi3Huy",
    "outputId": "2943636b-0a2d-4bff-ddff-ff8b1e5cfcb5"
   },
   "outputs": [
    {
     "name": "stdout",
     "output_type": "stream",
     "text": [
      "0.0001 - 0.593\n",
      "0.001 - 0.547\n",
      "0.01 - 0.536\n",
      "0.1 - 0.597\n",
      "1 - 0.805\n",
      "CPU times: user 40 s, sys: 3.23 s, total: 43.2 s\n",
      "Wall time: 48.7 s\n"
     ]
    }
   ],
   "source": [
    "%%time\n",
    "\n",
    "lr_list = [0.0001, 0.001, 0.01, 0.1, 1]\n",
    "\n",
    "for lr in lr_list:\n",
    "  print(lr, '-', net_train(train_loader, test_loader, num_epochs=10, hidden_dim=50, \n",
    "                                  deep=3, dropout=0.0, optimiz='adam', lr=lr, noise=False)[1])"
   ]
  },
  {
   "cell_type": "markdown",
   "metadata": {
    "id": "7LnRI2B2sjjP"
   },
   "source": [
    "0.0001 - 0.599\n",
    "0.001 - 0.557\n",
    "0.01 - 0.533\n",
    "0.1 - 0.576\n",
    "1 - 2.358\n",
    "CPU times: user 43.5 s, sys: 3.23 s, total: 46.8 s\n",
    "Wall time: 55.8 s"
   ]
  },
  {
   "cell_type": "markdown",
   "metadata": {
    "id": "MAhTp2mw3b_5"
   },
   "source": [
    "### Лучшая модель"
   ]
  },
  {
   "cell_type": "code",
   "execution_count": 23,
   "metadata": {
    "colab": {
     "base_uri": "https://localhost:8080/"
    },
    "id": "MI6QrvDK3eBA",
    "outputId": "53dcb366-9a22-42bb-c410-3c891eed90b9"
   },
   "outputs": [
    {
     "name": "stdout",
     "output_type": "stream",
     "text": [
      "Epoch: 1; Train_loss: 0.371; Test_loss: 4.923; Test_MSE: 0.598\n",
      "Epoch: 2; Train_loss: 0.299; Test_loss: 5.014; Test_MSE: 0.563\n",
      "Epoch: 3; Train_loss: 0.274; Test_loss: 5.057; Test_MSE: 0.566\n",
      "Epoch: 4; Train_loss: 0.274; Test_loss: 4.754; Test_MSE: 0.555\n",
      "Epoch: 5; Train_loss: 0.259; Test_loss: 4.889; Test_MSE: 0.546\n",
      "Epoch: 6; Train_loss: 0.254; Test_loss: 5.043; Test_MSE: 0.54\n",
      "Epoch: 7; Train_loss: 0.254; Test_loss: 5.099; Test_MSE: 0.548\n",
      "Epoch: 8; Train_loss: 0.24; Test_loss: 4.81; Test_MSE: 0.555\n",
      "Epoch: 9; Train_loss: 0.242; Test_loss: 5.204; Test_MSE: 0.556\n",
      "Epoch: 10; Train_loss: 0.233; Test_loss: 5.028; Test_MSE: 0.535\n",
      "Epoch: 11; Train_loss: 0.235; Test_loss: 4.944; Test_MSE: 0.55\n",
      "Epoch: 12; Train_loss: 0.233; Test_loss: 5.08; Test_MSE: 0.579\n",
      "Epoch: 13; Train_loss: 0.23; Test_loss: 4.616; Test_MSE: 0.547\n",
      "Epoch: 14; Train_loss: 0.235; Test_loss: 4.755; Test_MSE: 0.527\n",
      "Epoch: 15; Train_loss: 0.223; Test_loss: 4.861; Test_MSE: 0.534\n",
      "Epoch: 16; Train_loss: 0.223; Test_loss: 4.844; Test_MSE: 0.541\n",
      "Epoch: 17; Train_loss: 0.222; Test_loss: 5.19; Test_MSE: 0.57\n",
      "Epoch: 18; Train_loss: 0.228; Test_loss: 5.03; Test_MSE: 0.541\n",
      "Epoch: 19; Train_loss: 0.229; Test_loss: 5.005; Test_MSE: 0.554\n",
      "Epoch: 20; Train_loss: 0.216; Test_loss: 4.939; Test_MSE: 0.549\n",
      "CPU times: user 16.6 s, sys: 1.31 s, total: 17.9 s\n",
      "Wall time: 20.2 s\n"
     ]
    }
   ],
   "source": [
    "%%time\n",
    "\n",
    "net = net_train(train_loader, test_loader, num_epochs=20, hidden_dim=50, \n",
    "              deep=3, dropout=0.0, optimiz='adam', lr=0.01, noise=True)[0]"
   ]
  },
  {
   "cell_type": "markdown",
   "metadata": {
    "id": "jl1RK5ZL32eJ"
   },
   "source": [
    "## 7. Сравните сходимость Adam, RMSProp и SGD, сделайте вывод по качеству работы модели"
   ]
  },
  {
   "cell_type": "code",
   "execution_count": 24,
   "metadata": {
    "colab": {
     "base_uri": "https://localhost:8080/"
    },
    "id": "cJNmG2oJ4C_E",
    "outputId": "6d90eec2-3483-48e4-f7fe-3046666b21e5"
   },
   "outputs": [
    {
     "name": "stdout",
     "output_type": "stream",
     "text": [
      "CPU times: user 16.1 s, sys: 1.26 s, total: 17.4 s\n",
      "Wall time: 19.2 s\n"
     ]
    }
   ],
   "source": [
    "%%time\n",
    "\n",
    "adam_mse = net_train(train_loader, test_loader, num_epochs=20, hidden_dim=50, \n",
    "              deep=3, dropout=0.0, optimiz='adam', lr=0.01, noise=False)[2]"
   ]
  },
  {
   "cell_type": "code",
   "execution_count": 25,
   "metadata": {
    "colab": {
     "base_uri": "https://localhost:8080/"
    },
    "id": "1tWh-akQ48UN",
    "outputId": "a464b607-cf92-4c04-ce21-9963fe0b8b96"
   },
   "outputs": [
    {
     "name": "stdout",
     "output_type": "stream",
     "text": [
      "CPU times: user 16.8 s, sys: 1.28 s, total: 18.1 s\n",
      "Wall time: 24.1 s\n"
     ]
    }
   ],
   "source": [
    "%%time\n",
    "\n",
    "rmsprop_mse = net_train(train_loader, test_loader, num_epochs=20, hidden_dim=50, \n",
    "              deep=3, dropout=0.0, optimiz='rmsprop', lr=0.01, noise=False)[2]"
   ]
  },
  {
   "cell_type": "code",
   "execution_count": 26,
   "metadata": {
    "colab": {
     "base_uri": "https://localhost:8080/"
    },
    "id": "mSDenwh_48EN",
    "outputId": "8c14ed43-5dca-41ab-cda0-60048f978523"
   },
   "outputs": [
    {
     "name": "stdout",
     "output_type": "stream",
     "text": [
      "CPU times: user 16 s, sys: 1.24 s, total: 17.2 s\n",
      "Wall time: 20.5 s\n"
     ]
    }
   ],
   "source": [
    "%%time\n",
    "\n",
    "sgd_mse = net_train(train_loader, test_loader, num_epochs=20, hidden_dim=50, \n",
    "              deep=3, dropout=0.0, optimiz='sgd', lr=0.01, noise=False)[2]"
   ]
  },
  {
   "cell_type": "code",
   "execution_count": 27,
   "metadata": {
    "colab": {
     "base_uri": "https://localhost:8080/",
     "height": 544
    },
    "id": "tadRyTka5AVV",
    "outputId": "823c9434-d1e3-4505-f77f-59a2e3341e48"
   },
   "outputs": [
    {
     "data": {
      "image/png": "[encoded data removed]",
      "text/plain": [
       "<Figure size 1728x576 with 1 Axes>"
      ]
     },
     "metadata": {
      "needs_background": "light"
     },
     "output_type": "display_data"
    }
   ],
   "source": [
    "fontsize = 26\n",
    "\n",
    "plt.figure(figsize=(24, 8))\n",
    "plt.title('График сходимости', fontsize=fontsize)\n",
    "plt.xlabel('Epochs', fontsize=fontsize)\n",
    "plt.ylabel('Train_loss', fontsize=fontsize)\n",
    "plt.plot(adam_mse, label='Adam')\n",
    "plt.plot(rmsprop_mse, label='RMSProp')\n",
    "plt.plot(sgd_mse, label='SGD')\n",
    "plt.legend(fontsize=fontsize)\n",
    "plt.tick_params(labelsize=16)\n",
    "plt.show()"
   ]
  },
  {
   "cell_type": "markdown",
   "metadata": {
    "id": "vPsV0v617r3x"
   },
   "source": [
    "**Вывод** <br>\n",
    "Мною был создан Dataset из данных sklearn.datasets.fetch_california_housing, обернут в Dataloader. <br>\n",
    "Написана архитектура сети, состоящей из 50 скрытых слоёв и включающая в себя BatchNorm и Dropout. <br>\n",
    "С помощью перебора были найдены лучшие параметры для сети, такие как количество скрытых слоёв (hidden_dim), глубина (deep), dropout, скорость обучения (learning_rate). Количество эпох взял 20. <br>\n",
    "Было вроведено сравнение разных оптимизаторов. Лучше всех себя показал Adam."
   ]
  }
 ],
 "metadata": {
  "accelerator": "GPU",
  "colab": {
   "provenance": []
  },
  "gpuClass": "standard",
  "kernelspec": {
   "display_name": "Python 3 (ipykernel)",
   "language": "python",
   "name": "python3"
  },
  "language_info": {
   "codemirror_mode": {
    "name": "ipython",
    "version": 3
   },
   "file_extension": ".py",
   "mimetype": "text/x-python",
   "name": "python",
   "nbconvert_exporter": "python",
   "pygments_lexer": "ipython3",
   "version": "3.10.8"
  }
 },
 "nbformat": 4,
 "nbformat_minor": 4
}
