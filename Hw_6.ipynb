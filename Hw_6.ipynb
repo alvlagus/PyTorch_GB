{
  "nbformat": 4,
  "nbformat_minor": 0,
  "metadata": {
    "colab": {
      "provenance": []
    },
    "kernelspec": {
      "name": "python3",
      "display_name": "Python 3"
    },
    "language_info": {
      "name": "python"
    },
    "accelerator": "GPU",
    "gpuClass": "standard"
  },
  "cells": [
    {
      "cell_type": "markdown",
      "source": [
        "<h1 align='center'><b>Фреймворк PyTorch для разработки искусственных нейронных сетей<b></h1>"
      ],
      "metadata": {
        "id": "1_ZoT-cXv6xK"
      }
    },
    {
      "cell_type": "markdown",
      "source": [
        "<h2 align='center'>Урок 6. Нейросети в обработке текста</h2>"
      ],
      "metadata": {
        "id": "dK7M4DODwAOS"
      }
    },
    {
      "cell_type": "markdown",
      "source": [
        "<h3 align='left'>Практическое задание:</h3>  \n",
        "\n",
        "Попробуйте обучить нейронную сеть с применением одномерных сверток для предсказания сентимента сообщений с твиттера на примере https://www.kaggle.com/datasets/arkhoshghalb/twitter-sentiment-analysis-hatred-speech\n",
        "\n",
        "\n",
        "\n",
        "\n",
        "\n"
      ],
      "metadata": {
        "id": "Y4iDKyHuwD_o"
      }
    },
    {
      "cell_type": "markdown",
      "source": [
        "## 1. Подготовка датасета"
      ],
      "metadata": {
        "id": "1-thkPyp6xg8"
      }
    },
    {
      "cell_type": "markdown",
      "source": [
        "### Описание датасета https://www.kaggle.com/datasets/arkhoshghalb/twitter-sentiment-analysis-hatred-speech"
      ],
      "metadata": {
        "id": "32NJVBNRx3U6"
      }
    },
    {
      "cell_type": "markdown",
      "source": [
        "Цель этой задачи - обнаружить ненавистнические высказывания в твитах. Для простоты мы говорим, что твит содержит ненавистнические высказывания, если с ним связаны расистские или сексистские настроения. Итак, задача состоит в том, чтобы отличить сопротивляющиеся или сексистские твиты от других твитов.\n",
        "\n",
        "Формально, учитывая обучающую выборку твитов и меток, где метка \"1\" означает, что твит является расистским / сексистским, а метка \"0\" означает, что твит не является расистским / сексистским, ваша цель - предсказать метки в тестовом наборе данных."
      ],
      "metadata": {
        "id": "mmzoyJVGx9zz"
      }
    },
    {
      "cell_type": "markdown",
      "source": [
        "### 1. Загрузка библиотек"
      ],
      "metadata": {
        "id": "kjQLWg3rx4zL"
      }
    },
    {
      "cell_type": "code",
      "source": [
        "!pip install stop-words pymorphy2"
      ],
      "metadata": {
        "colab": {
          "base_uri": "https://localhost:8080/"
        },
        "id": "Triuha-_6UX-",
        "outputId": "1f0e9f5c-c39f-4da2-ff68-83a8c622d58c"
      },
      "execution_count": 187,
      "outputs": [
        {
          "output_type": "stream",
          "name": "stdout",
          "text": [
            "Looking in indexes: https://pypi.org/simple, https://us-python.pkg.dev/colab-wheels/public/simple/\n",
            "Requirement already satisfied: stop-words in /usr/local/lib/python3.8/dist-packages (2018.7.23)\n",
            "Requirement already satisfied: pymorphy2 in /usr/local/lib/python3.8/dist-packages (0.9.1)\n",
            "Requirement already satisfied: dawg-python>=0.7.1 in /usr/local/lib/python3.8/dist-packages (from pymorphy2) (0.7.2)\n",
            "Requirement already satisfied: docopt>=0.6 in /usr/local/lib/python3.8/dist-packages (from pymorphy2) (0.6.2)\n",
            "Requirement already satisfied: pymorphy2-dicts-ru<3.0,>=2.4 in /usr/local/lib/python3.8/dist-packages (from pymorphy2) (2.4.417127.4579844)\n"
          ]
        }
      ]
    },
    {
      "cell_type": "code",
      "execution_count": 188,
      "metadata": {
        "id": "MereiLMguqDF",
        "colab": {
          "base_uri": "https://localhost:8080/"
        },
        "outputId": "0c024796-c4ec-4204-b2a5-3c8787f74ace"
      },
      "outputs": [
        {
          "output_type": "stream",
          "name": "stderr",
          "text": [
            "[nltk_data] Downloading package omw-1.4 to /root/nltk_data...\n",
            "[nltk_data]   Package omw-1.4 is already up-to-date!\n",
            "[nltk_data] Downloading package wordnet to /root/nltk_data...\n",
            "[nltk_data]   Package wordnet is already up-to-date!\n",
            "[nltk_data] Downloading package punkt to /root/nltk_data...\n",
            "[nltk_data]   Package punkt is already up-to-date!\n"
          ]
        }
      ],
      "source": [
        "# Scientific libraries\n",
        "import pandas as pd\n",
        "import numpy as np\n",
        "from sklearn.model_selection import train_test_split\n",
        "from sklearn.metrics import f1_score\n",
        "\n",
        "import torch\n",
        "import torch.nn as nn\n",
        "import torch.nn.functional as F\n",
        "from torch.utils.data import DataLoader, Dataset\n",
        "\n",
        "# Language libraries\n",
        "import string\n",
        "import nltk\n",
        "nltk.download('omw-1.4')\n",
        "nltk.download('wordnet')\n",
        "nltk.download(\"punkt\")\n",
        "from nltk.tokenize import word_tokenize\n",
        "from string import punctuation\n",
        "from string import ascii_lowercase\n",
        "from stop_words import get_stop_words\n",
        "from pymorphy2 import MorphAnalyzer\n",
        "import re\n",
        "\n",
        "\n",
        "# Visual libraries\n",
        "import matplotlib\n",
        "import matplotlib.pyplot as plt\n",
        "import seaborn as sns\n",
        "\n",
        "%matplotlib inline\n",
        "matplotlib.rcParams.update({'font.size': 14})\n",
        "plt.style.use('seaborn')\n",
        "\n",
        "from tqdm import tqdm "
      ]
    },
    {
      "cell_type": "markdown",
      "source": [
        "### 2. Загрузка данных"
      ],
      "metadata": {
        "id": "KQG_YixRx7a5"
      }
    },
    {
      "cell_type": "code",
      "source": [
        "from google.colab import drive\n",
        "drive.mount('/content/drive')"
      ],
      "metadata": {
        "colab": {
          "base_uri": "https://localhost:8080/"
        },
        "id": "82ODgPZHqLof",
        "outputId": "52de4e84-e51a-4961-defe-a2493f836cb7"
      },
      "execution_count": 189,
      "outputs": [
        {
          "output_type": "stream",
          "name": "stdout",
          "text": [
            "Drive already mounted at /content/drive; to attempt to forcibly remount, call drive.mount(\"/content/drive\", force_remount=True).\n"
          ]
        }
      ]
    },
    {
      "cell_type": "code",
      "source": [
        "!unzip -qq '/content/drive/MyDrive/Colab_Notebooks/24_PyTorch/work_6/data/archive.zip'"
      ],
      "metadata": {
        "id": "lLTBXyxdv73R",
        "colab": {
          "base_uri": "https://localhost:8080/"
        },
        "outputId": "5b19d910-9864-4ea6-c16c-e49e41eaea8b"
      },
      "execution_count": 190,
      "outputs": [
        {
          "output_type": "stream",
          "name": "stdout",
          "text": [
            "replace test.csv? [y]es, [n]o, [A]ll, [N]one, [r]ename: "
          ]
        }
      ]
    },
    {
      "cell_type": "code",
      "source": [
        "train = pd.read_csv(\"train.csv\")\n",
        "\n",
        "test = pd.read_csv(\"test.csv\")"
      ],
      "metadata": {
        "id": "svjddk2RtHKi"
      },
      "execution_count": 191,
      "outputs": []
    },
    {
      "cell_type": "code",
      "source": [
        "train.tail(5).style.background_gradient(cmap = \"summer\")"
      ],
      "metadata": {
        "colab": {
          "base_uri": "https://localhost:8080/",
          "height": 224
        },
        "id": "x_pIjMHWtrek",
        "outputId": "95ab9bb6-07f1-4cf9-b2d4-927a8bcf411c"
      },
      "execution_count": 192,
      "outputs": [
        {
          "output_type": "execute_result",
          "data": {
            "text/plain": [
              "<pandas.io.formats.style.Styler at 0x7f085f596b80>"
            ],
            "text/html": [
              "<style type=\"text/css\">\n",
              "#T_0f17e_row0_col0, #T_0f17e_row0_col1, #T_0f17e_row1_col1, #T_0f17e_row2_col1, #T_0f17e_row4_col1 {\n",
              "  background-color: #008066;\n",
              "  color: #f1f1f1;\n",
              "}\n",
              "#T_0f17e_row1_col0 {\n",
              "  background-color: #40a066;\n",
              "  color: #f1f1f1;\n",
              "}\n",
              "#T_0f17e_row2_col0 {\n",
              "  background-color: #80c066;\n",
              "  color: #000000;\n",
              "}\n",
              "#T_0f17e_row3_col0 {\n",
              "  background-color: #c0e066;\n",
              "  color: #000000;\n",
              "}\n",
              "#T_0f17e_row3_col1, #T_0f17e_row4_col0 {\n",
              "  background-color: #ffff66;\n",
              "  color: #000000;\n",
              "}\n",
              "</style>\n",
              "<table id=\"T_0f17e_\" class=\"dataframe\">\n",
              "  <thead>\n",
              "    <tr>\n",
              "      <th class=\"blank level0\" >&nbsp;</th>\n",
              "      <th class=\"col_heading level0 col0\" >id</th>\n",
              "      <th class=\"col_heading level0 col1\" >label</th>\n",
              "      <th class=\"col_heading level0 col2\" >tweet</th>\n",
              "    </tr>\n",
              "  </thead>\n",
              "  <tbody>\n",
              "    <tr>\n",
              "      <th id=\"T_0f17e_level0_row0\" class=\"row_heading level0 row0\" >31957</th>\n",
              "      <td id=\"T_0f17e_row0_col0\" class=\"data row0 col0\" >31958</td>\n",
              "      <td id=\"T_0f17e_row0_col1\" class=\"data row0 col1\" >0</td>\n",
              "      <td id=\"T_0f17e_row0_col2\" class=\"data row0 col2\" >ate @user isz that youuu?ðððððððððâ¤ï¸ </td>\n",
              "    </tr>\n",
              "    <tr>\n",
              "      <th id=\"T_0f17e_level0_row1\" class=\"row_heading level0 row1\" >31958</th>\n",
              "      <td id=\"T_0f17e_row1_col0\" class=\"data row1 col0\" >31959</td>\n",
              "      <td id=\"T_0f17e_row1_col1\" class=\"data row1 col1\" >0</td>\n",
              "      <td id=\"T_0f17e_row1_col2\" class=\"data row1 col2\" >  to see nina turner on the airwaves trying to wrap herself in the mantle of a genuine hero like shirley chisolm. #shame #imwithher</td>\n",
              "    </tr>\n",
              "    <tr>\n",
              "      <th id=\"T_0f17e_level0_row2\" class=\"row_heading level0 row2\" >31959</th>\n",
              "      <td id=\"T_0f17e_row2_col0\" class=\"data row2 col0\" >31960</td>\n",
              "      <td id=\"T_0f17e_row2_col1\" class=\"data row2 col1\" >0</td>\n",
              "      <td id=\"T_0f17e_row2_col2\" class=\"data row2 col2\" >listening to sad songs on a monday morning otw to work is sad  </td>\n",
              "    </tr>\n",
              "    <tr>\n",
              "      <th id=\"T_0f17e_level0_row3\" class=\"row_heading level0 row3\" >31960</th>\n",
              "      <td id=\"T_0f17e_row3_col0\" class=\"data row3 col0\" >31961</td>\n",
              "      <td id=\"T_0f17e_row3_col1\" class=\"data row3 col1\" >1</td>\n",
              "      <td id=\"T_0f17e_row3_col2\" class=\"data row3 col2\" >@user #sikh #temple vandalised in in #calgary, #wso condemns  act  </td>\n",
              "    </tr>\n",
              "    <tr>\n",
              "      <th id=\"T_0f17e_level0_row4\" class=\"row_heading level0 row4\" >31961</th>\n",
              "      <td id=\"T_0f17e_row4_col0\" class=\"data row4 col0\" >31962</td>\n",
              "      <td id=\"T_0f17e_row4_col1\" class=\"data row4 col1\" >0</td>\n",
              "      <td id=\"T_0f17e_row4_col2\" class=\"data row4 col2\" >thank you @user for you follow  </td>\n",
              "    </tr>\n",
              "  </tbody>\n",
              "</table>\n"
            ]
          },
          "metadata": {},
          "execution_count": 192
        }
      ]
    },
    {
      "cell_type": "code",
      "source": [
        "test.head()"
      ],
      "metadata": {
        "colab": {
          "base_uri": "https://localhost:8080/",
          "height": 206
        },
        "id": "NdsrtSFXtw6l",
        "outputId": "fc0d68e5-38e1-4144-add7-53a01d66fc82"
      },
      "execution_count": 193,
      "outputs": [
        {
          "output_type": "execute_result",
          "data": {
            "text/plain": [
              "      id                                              tweet\n",
              "0  31963  #studiolife #aislife #requires #passion #dedic...\n",
              "1  31964   @user #white #supremacists want everyone to s...\n",
              "2  31965  safe ways to heal your #acne!!    #altwaystohe...\n",
              "3  31966  is the hp and the cursed child book up for res...\n",
              "4  31967    3rd #bihday to my amazing, hilarious #nephew..."
            ],
            "text/html": [
              "\n",
              "  <div id=\"df-365ae48b-1e32-4372-8f13-9e4e1512dd8d\">\n",
              "    <div class=\"colab-df-container\">\n",
              "      <div>\n",
              "<style scoped>\n",
              "    .dataframe tbody tr th:only-of-type {\n",
              "        vertical-align: middle;\n",
              "    }\n",
              "\n",
              "    .dataframe tbody tr th {\n",
              "        vertical-align: top;\n",
              "    }\n",
              "\n",
              "    .dataframe thead th {\n",
              "        text-align: right;\n",
              "    }\n",
              "</style>\n",
              "<table border=\"1\" class=\"dataframe\">\n",
              "  <thead>\n",
              "    <tr style=\"text-align: right;\">\n",
              "      <th></th>\n",
              "      <th>id</th>\n",
              "      <th>tweet</th>\n",
              "    </tr>\n",
              "  </thead>\n",
              "  <tbody>\n",
              "    <tr>\n",
              "      <th>0</th>\n",
              "      <td>31963</td>\n",
              "      <td>#studiolife #aislife #requires #passion #dedic...</td>\n",
              "    </tr>\n",
              "    <tr>\n",
              "      <th>1</th>\n",
              "      <td>31964</td>\n",
              "      <td>@user #white #supremacists want everyone to s...</td>\n",
              "    </tr>\n",
              "    <tr>\n",
              "      <th>2</th>\n",
              "      <td>31965</td>\n",
              "      <td>safe ways to heal your #acne!!    #altwaystohe...</td>\n",
              "    </tr>\n",
              "    <tr>\n",
              "      <th>3</th>\n",
              "      <td>31966</td>\n",
              "      <td>is the hp and the cursed child book up for res...</td>\n",
              "    </tr>\n",
              "    <tr>\n",
              "      <th>4</th>\n",
              "      <td>31967</td>\n",
              "      <td>3rd #bihday to my amazing, hilarious #nephew...</td>\n",
              "    </tr>\n",
              "  </tbody>\n",
              "</table>\n",
              "</div>\n",
              "      <button class=\"colab-df-convert\" onclick=\"convertToInteractive('df-365ae48b-1e32-4372-8f13-9e4e1512dd8d')\"\n",
              "              title=\"Convert this dataframe to an interactive table.\"\n",
              "              style=\"display:none;\">\n",
              "        \n",
              "  <svg xmlns=\"http://www.w3.org/2000/svg\" height=\"24px\"viewBox=\"0 0 24 24\"\n",
              "       width=\"24px\">\n",
              "    <path d=\"M0 0h24v24H0V0z\" fill=\"none\"/>\n",
              "    <path d=\"M18.56 5.44l.94 2.06.94-2.06 2.06-.94-2.06-.94-.94-2.06-.94 2.06-2.06.94zm-11 1L8.5 8.5l.94-2.06 2.06-.94-2.06-.94L8.5 2.5l-.94 2.06-2.06.94zm10 10l.94 2.06.94-2.06 2.06-.94-2.06-.94-.94-2.06-.94 2.06-2.06.94z\"/><path d=\"M17.41 7.96l-1.37-1.37c-.4-.4-.92-.59-1.43-.59-.52 0-1.04.2-1.43.59L10.3 9.45l-7.72 7.72c-.78.78-.78 2.05 0 2.83L4 21.41c.39.39.9.59 1.41.59.51 0 1.02-.2 1.41-.59l7.78-7.78 2.81-2.81c.8-.78.8-2.07 0-2.86zM5.41 20L4 18.59l7.72-7.72 1.47 1.35L5.41 20z\"/>\n",
              "  </svg>\n",
              "      </button>\n",
              "      \n",
              "  <style>\n",
              "    .colab-df-container {\n",
              "      display:flex;\n",
              "      flex-wrap:wrap;\n",
              "      gap: 12px;\n",
              "    }\n",
              "\n",
              "    .colab-df-convert {\n",
              "      background-color: #E8F0FE;\n",
              "      border: none;\n",
              "      border-radius: 50%;\n",
              "      cursor: pointer;\n",
              "      display: none;\n",
              "      fill: #1967D2;\n",
              "      height: 32px;\n",
              "      padding: 0 0 0 0;\n",
              "      width: 32px;\n",
              "    }\n",
              "\n",
              "    .colab-df-convert:hover {\n",
              "      background-color: #E2EBFA;\n",
              "      box-shadow: 0px 1px 2px rgba(60, 64, 67, 0.3), 0px 1px 3px 1px rgba(60, 64, 67, 0.15);\n",
              "      fill: #174EA6;\n",
              "    }\n",
              "\n",
              "    [theme=dark] .colab-df-convert {\n",
              "      background-color: #3B4455;\n",
              "      fill: #D2E3FC;\n",
              "    }\n",
              "\n",
              "    [theme=dark] .colab-df-convert:hover {\n",
              "      background-color: #434B5C;\n",
              "      box-shadow: 0px 1px 3px 1px rgba(0, 0, 0, 0.15);\n",
              "      filter: drop-shadow(0px 1px 2px rgba(0, 0, 0, 0.3));\n",
              "      fill: #FFFFFF;\n",
              "    }\n",
              "  </style>\n",
              "\n",
              "      <script>\n",
              "        const buttonEl =\n",
              "          document.querySelector('#df-365ae48b-1e32-4372-8f13-9e4e1512dd8d button.colab-df-convert');\n",
              "        buttonEl.style.display =\n",
              "          google.colab.kernel.accessAllowed ? 'block' : 'none';\n",
              "\n",
              "        async function convertToInteractive(key) {\n",
              "          const element = document.querySelector('#df-365ae48b-1e32-4372-8f13-9e4e1512dd8d');\n",
              "          const dataTable =\n",
              "            await google.colab.kernel.invokeFunction('convertToInteractive',\n",
              "                                                     [key], {});\n",
              "          if (!dataTable) return;\n",
              "\n",
              "          const docLinkHtml = 'Like what you see? Visit the ' +\n",
              "            '<a target=\"_blank\" href=https://colab.research.google.com/notebooks/data_table.ipynb>data table notebook</a>'\n",
              "            + ' to learn more about interactive tables.';\n",
              "          element.innerHTML = '';\n",
              "          dataTable['output_type'] = 'display_data';\n",
              "          await google.colab.output.renderOutput(dataTable, element);\n",
              "          const docLink = document.createElement('div');\n",
              "          docLink.innerHTML = docLinkHtml;\n",
              "          element.appendChild(docLink);\n",
              "        }\n",
              "      </script>\n",
              "    </div>\n",
              "  </div>\n",
              "  "
            ]
          },
          "metadata": {},
          "execution_count": 193
        }
      ]
    },
    {
      "cell_type": "code",
      "source": [
        "print('Тренировочный датасет df_train:', train.shape)\n",
        "print('Тестовый датасет df_test:', test.shape)"
      ],
      "metadata": {
        "colab": {
          "base_uri": "https://localhost:8080/"
        },
        "id": "5uPWHog7uoyi",
        "outputId": "fdd09fc5-dac4-49a0-b301-9a018019114f"
      },
      "execution_count": 194,
      "outputs": [
        {
          "output_type": "stream",
          "name": "stdout",
          "text": [
            "Тренировочный датасет df_train: (31962, 3)\n",
            "Тестовый датасет df_test: (17197, 2)\n"
          ]
        }
      ]
    },
    {
      "cell_type": "markdown",
      "source": [
        "## Анализ данных (Exploratory Data Analysis (EDA))<a class=\"anchor\" id=\"eda\"></a>"
      ],
      "metadata": {
        "id": "6xlmHYVAzpxz"
      }
    },
    {
      "cell_type": "markdown",
      "source": [
        "### Обзор данных<a class=\"anchor\" id=\"data_overview\"></a>"
      ],
      "metadata": {
        "id": "iMfZgDrUztWI"
      }
    },
    {
      "cell_type": "code",
      "source": [
        "# Получим общую информацию о df_train\n",
        "train.info()"
      ],
      "metadata": {
        "colab": {
          "base_uri": "https://localhost:8080/"
        },
        "id": "yj_rHQNuvZfI",
        "outputId": "67ec0d22-bb6e-4ee1-ec5f-af2ee42d27db"
      },
      "execution_count": 195,
      "outputs": [
        {
          "output_type": "stream",
          "name": "stdout",
          "text": [
            "<class 'pandas.core.frame.DataFrame'>\n",
            "RangeIndex: 31962 entries, 0 to 31961\n",
            "Data columns (total 3 columns):\n",
            " #   Column  Non-Null Count  Dtype \n",
            "---  ------  --------------  ----- \n",
            " 0   id      31962 non-null  int64 \n",
            " 1   label   31962 non-null  int64 \n",
            " 2   tweet   31962 non-null  object\n",
            "dtypes: int64(2), object(1)\n",
            "memory usage: 749.2+ KB\n"
          ]
        }
      ]
    },
    {
      "cell_type": "markdown",
      "source": [
        "**Вывод:** Пропуски в df_train отсутствуют"
      ],
      "metadata": {
        "id": "cMaXVD2C0KqE"
      }
    },
    {
      "cell_type": "code",
      "source": [
        "# Получим общую информацию о df_test\n",
        "test.info()"
      ],
      "metadata": {
        "colab": {
          "base_uri": "https://localhost:8080/"
        },
        "id": "GM9yqBYW0BTx",
        "outputId": "0ffb9d6e-6bcf-423c-f4c2-09d412a71065"
      },
      "execution_count": 196,
      "outputs": [
        {
          "output_type": "stream",
          "name": "stdout",
          "text": [
            "<class 'pandas.core.frame.DataFrame'>\n",
            "RangeIndex: 17197 entries, 0 to 17196\n",
            "Data columns (total 2 columns):\n",
            " #   Column  Non-Null Count  Dtype \n",
            "---  ------  --------------  ----- \n",
            " 0   id      17197 non-null  int64 \n",
            " 1   tweet   17197 non-null  object\n",
            "dtypes: int64(1), object(1)\n",
            "memory usage: 268.8+ KB\n"
          ]
        }
      ]
    },
    {
      "cell_type": "markdown",
      "source": [
        "**Вывод:** Пропуски в df_test отсутствуют"
      ],
      "metadata": {
        "id": "Bg79BiHK0IkO"
      }
    },
    {
      "cell_type": "markdown",
      "source": [
        "### Обзор целевой переменной<a class=\"anchor\" id=\"target_feature_overview\"></a>"
      ],
      "metadata": {
        "id": "4DVhBWW-0QCL"
      }
    },
    {
      "cell_type": "markdown",
      "source": [
        "**label** - метка, окраску твита.  \n",
        "Имеет значения:  \n",
        "0 - нормальный (позитивный) твит<br>\n",
        "1 - негативный твит"
      ],
      "metadata": {
        "id": "kxB4e6At0Tas"
      }
    },
    {
      "cell_type": "code",
      "source": [
        "train['label'].value_counts()"
      ],
      "metadata": {
        "colab": {
          "base_uri": "https://localhost:8080/"
        },
        "id": "CwJTQH3Ytw1r",
        "outputId": "f4e6a510-9937-48d6-be9e-f51af2c3991b"
      },
      "execution_count": 197,
      "outputs": [
        {
          "output_type": "execute_result",
          "data": {
            "text/plain": [
              "0    29720\n",
              "1     2242\n",
              "Name: label, dtype: int64"
            ]
          },
          "metadata": {},
          "execution_count": 197
        }
      ]
    },
    {
      "cell_type": "code",
      "source": [
        "train['label'].value_counts(1)"
      ],
      "metadata": {
        "colab": {
          "base_uri": "https://localhost:8080/"
        },
        "id": "O5v0xPskvTzB",
        "outputId": "24922e02-eb59-4c7c-dc3b-78f7ed154401"
      },
      "execution_count": 198,
      "outputs": [
        {
          "output_type": "execute_result",
          "data": {
            "text/plain": [
              "0    0.929854\n",
              "1    0.070146\n",
              "Name: label, dtype: float64"
            ]
          },
          "metadata": {},
          "execution_count": 198
        }
      ]
    },
    {
      "cell_type": "code",
      "source": [
        "counts = train['label']. value_counts()\n",
        "\n",
        "plt.figure(figsize=(8,4))\n",
        "plt.title('Распределение переменной \"label\"')\n",
        "sns.barplot(counts.index, counts.values)\n",
        "plt.xlabel('Тип твита: 0-позитивный, 1 - негативный')\n",
        "plt.ylabel('Значение')\n",
        "plt.show()"
      ],
      "metadata": {
        "colab": {
          "base_uri": "https://localhost:8080/",
          "height": 352
        },
        "id": "QDi4m_WP0n5o",
        "outputId": "83430c53-b579-4fb0-cecd-7f60fba7ae85"
      },
      "execution_count": 199,
      "outputs": [
        {
          "output_type": "stream",
          "name": "stderr",
          "text": [
            "/usr/local/lib/python3.8/dist-packages/seaborn/_decorators.py:36: FutureWarning: Pass the following variables as keyword args: x, y. From version 0.12, the only valid positional argument will be `data`, and passing other arguments without an explicit keyword will result in an error or misinterpretation.\n",
            "  warnings.warn(\n"
          ]
        },
        {
          "output_type": "display_data",
          "data": {
            "text/plain": [
              "<Figure size 576x288 with 1 Axes>"
            ],
            "image/png": "[encoded data removed]"
          },
          "metadata": {}
        }
      ]
    },
    {
      "cell_type": "markdown",
      "source": [
        "**Вывод:** Присутствует дисбаланс классов. Класса 1 всего 7%."
      ],
      "metadata": {
        "id": "Ule0D3_IxGwr"
      }
    },
    {
      "cell_type": "code",
      "source": [
        "# Проверим есть ли повторяющиеся значения\n",
        "print(\"Всего {} повторов в  df_train\".format(train.duplicated().sum()))"
      ],
      "metadata": {
        "colab": {
          "base_uri": "https://localhost:8080/"
        },
        "id": "y2m0xXf-wH-T",
        "outputId": "7165d32a-1f7e-4d2b-81e7-7ac793f04c58"
      },
      "execution_count": 200,
      "outputs": [
        {
          "output_type": "stream",
          "name": "stdout",
          "text": [
            "Всего 0 повторов в  df_train\n"
          ]
        }
      ]
    },
    {
      "cell_type": "markdown",
      "source": [
        "### Определение длины текстового сообщения и % знаков препинания в тексте<a class=\"anchor\" id=\"len_punct\"></a>"
      ],
      "metadata": {
        "id": "zoy8EPiu2lh7"
      }
    },
    {
      "cell_type": "code",
      "source": [
        "# функция для вычисления длины заголовка новости без учета пробелов\n",
        "train['tweet_len'] = train['tweet'].apply(lambda x: len(x) - x.count(\" \"))\n",
        "\n",
        "# функция показывает процент знаков препинания в теле заголовка новости\n",
        "def count_punct(text):\n",
        "    count = sum([1 for char in text if char in string.punctuation])\n",
        "    return round(count/(len(text) - text.count(\" \")), 3)*100\n",
        "\n",
        "train['punct%'] = train['tweet'].apply(lambda x: count_punct(x))\n",
        "\n",
        "train.head()"
      ],
      "metadata": {
        "colab": {
          "base_uri": "https://localhost:8080/",
          "height": 206
        },
        "id": "5RzBDWqVwHBA",
        "outputId": "0d9df671-e050-43f0-fa7d-1e56ec8556c7"
      },
      "execution_count": 201,
      "outputs": [
        {
          "output_type": "execute_result",
          "data": {
            "text/plain": [
              "   id  label                                              tweet  tweet_len  \\\n",
              "0   1      0   @user when a father is dysfunctional and is s...         82   \n",
              "1   2      0  @user @user thanks for #lyft credit i can't us...        101   \n",
              "2   3      0                                bihday your majesty         17   \n",
              "3   4      0  #model   i love u take with u all the time in ...         70   \n",
              "4   5      0             factsguide: society now    #motivation         32   \n",
              "\n",
              "   punct%  \n",
              "0     3.7  \n",
              "1     7.9  \n",
              "2     0.0  \n",
              "3     5.7  \n",
              "4     6.2  "
            ],
            "text/html": [
              "\n",
              "  <div id=\"df-c6461d59-afe2-4630-ab99-1bb87ebaaf8b\">\n",
              "    <div class=\"colab-df-container\">\n",
              "      <div>\n",
              "<style scoped>\n",
              "    .dataframe tbody tr th:only-of-type {\n",
              "        vertical-align: middle;\n",
              "    }\n",
              "\n",
              "    .dataframe tbody tr th {\n",
              "        vertical-align: top;\n",
              "    }\n",
              "\n",
              "    .dataframe thead th {\n",
              "        text-align: right;\n",
              "    }\n",
              "</style>\n",
              "<table border=\"1\" class=\"dataframe\">\n",
              "  <thead>\n",
              "    <tr style=\"text-align: right;\">\n",
              "      <th></th>\n",
              "      <th>id</th>\n",
              "      <th>label</th>\n",
              "      <th>tweet</th>\n",
              "      <th>tweet_len</th>\n",
              "      <th>punct%</th>\n",
              "    </tr>\n",
              "  </thead>\n",
              "  <tbody>\n",
              "    <tr>\n",
              "      <th>0</th>\n",
              "      <td>1</td>\n",
              "      <td>0</td>\n",
              "      <td>@user when a father is dysfunctional and is s...</td>\n",
              "      <td>82</td>\n",
              "      <td>3.7</td>\n",
              "    </tr>\n",
              "    <tr>\n",
              "      <th>1</th>\n",
              "      <td>2</td>\n",
              "      <td>0</td>\n",
              "      <td>@user @user thanks for #lyft credit i can't us...</td>\n",
              "      <td>101</td>\n",
              "      <td>7.9</td>\n",
              "    </tr>\n",
              "    <tr>\n",
              "      <th>2</th>\n",
              "      <td>3</td>\n",
              "      <td>0</td>\n",
              "      <td>bihday your majesty</td>\n",
              "      <td>17</td>\n",
              "      <td>0.0</td>\n",
              "    </tr>\n",
              "    <tr>\n",
              "      <th>3</th>\n",
              "      <td>4</td>\n",
              "      <td>0</td>\n",
              "      <td>#model   i love u take with u all the time in ...</td>\n",
              "      <td>70</td>\n",
              "      <td>5.7</td>\n",
              "    </tr>\n",
              "    <tr>\n",
              "      <th>4</th>\n",
              "      <td>5</td>\n",
              "      <td>0</td>\n",
              "      <td>factsguide: society now    #motivation</td>\n",
              "      <td>32</td>\n",
              "      <td>6.2</td>\n",
              "    </tr>\n",
              "  </tbody>\n",
              "</table>\n",
              "</div>\n",
              "      <button class=\"colab-df-convert\" onclick=\"convertToInteractive('df-c6461d59-afe2-4630-ab99-1bb87ebaaf8b')\"\n",
              "              title=\"Convert this dataframe to an interactive table.\"\n",
              "              style=\"display:none;\">\n",
              "        \n",
              "  <svg xmlns=\"http://www.w3.org/2000/svg\" height=\"24px\"viewBox=\"0 0 24 24\"\n",
              "       width=\"24px\">\n",
              "    <path d=\"M0 0h24v24H0V0z\" fill=\"none\"/>\n",
              "    <path d=\"M18.56 5.44l.94 2.06.94-2.06 2.06-.94-2.06-.94-.94-2.06-.94 2.06-2.06.94zm-11 1L8.5 8.5l.94-2.06 2.06-.94-2.06-.94L8.5 2.5l-.94 2.06-2.06.94zm10 10l.94 2.06.94-2.06 2.06-.94-2.06-.94-.94-2.06-.94 2.06-2.06.94z\"/><path d=\"M17.41 7.96l-1.37-1.37c-.4-.4-.92-.59-1.43-.59-.52 0-1.04.2-1.43.59L10.3 9.45l-7.72 7.72c-.78.78-.78 2.05 0 2.83L4 21.41c.39.39.9.59 1.41.59.51 0 1.02-.2 1.41-.59l7.78-7.78 2.81-2.81c.8-.78.8-2.07 0-2.86zM5.41 20L4 18.59l7.72-7.72 1.47 1.35L5.41 20z\"/>\n",
              "  </svg>\n",
              "      </button>\n",
              "      \n",
              "  <style>\n",
              "    .colab-df-container {\n",
              "      display:flex;\n",
              "      flex-wrap:wrap;\n",
              "      gap: 12px;\n",
              "    }\n",
              "\n",
              "    .colab-df-convert {\n",
              "      background-color: #E8F0FE;\n",
              "      border: none;\n",
              "      border-radius: 50%;\n",
              "      cursor: pointer;\n",
              "      display: none;\n",
              "      fill: #1967D2;\n",
              "      height: 32px;\n",
              "      padding: 0 0 0 0;\n",
              "      width: 32px;\n",
              "    }\n",
              "\n",
              "    .colab-df-convert:hover {\n",
              "      background-color: #E2EBFA;\n",
              "      box-shadow: 0px 1px 2px rgba(60, 64, 67, 0.3), 0px 1px 3px 1px rgba(60, 64, 67, 0.15);\n",
              "      fill: #174EA6;\n",
              "    }\n",
              "\n",
              "    [theme=dark] .colab-df-convert {\n",
              "      background-color: #3B4455;\n",
              "      fill: #D2E3FC;\n",
              "    }\n",
              "\n",
              "    [theme=dark] .colab-df-convert:hover {\n",
              "      background-color: #434B5C;\n",
              "      box-shadow: 0px 1px 3px 1px rgba(0, 0, 0, 0.15);\n",
              "      filter: drop-shadow(0px 1px 2px rgba(0, 0, 0, 0.3));\n",
              "      fill: #FFFFFF;\n",
              "    }\n",
              "  </style>\n",
              "\n",
              "      <script>\n",
              "        const buttonEl =\n",
              "          document.querySelector('#df-c6461d59-afe2-4630-ab99-1bb87ebaaf8b button.colab-df-convert');\n",
              "        buttonEl.style.display =\n",
              "          google.colab.kernel.accessAllowed ? 'block' : 'none';\n",
              "\n",
              "        async function convertToInteractive(key) {\n",
              "          const element = document.querySelector('#df-c6461d59-afe2-4630-ab99-1bb87ebaaf8b');\n",
              "          const dataTable =\n",
              "            await google.colab.kernel.invokeFunction('convertToInteractive',\n",
              "                                                     [key], {});\n",
              "          if (!dataTable) return;\n",
              "\n",
              "          const docLinkHtml = 'Like what you see? Visit the ' +\n",
              "            '<a target=\"_blank\" href=https://colab.research.google.com/notebooks/data_table.ipynb>data table notebook</a>'\n",
              "            + ' to learn more about interactive tables.';\n",
              "          element.innerHTML = '';\n",
              "          dataTable['output_type'] = 'display_data';\n",
              "          await google.colab.output.renderOutput(dataTable, element);\n",
              "          const docLink = document.createElement('div');\n",
              "          docLink.innerHTML = docLinkHtml;\n",
              "          element.appendChild(docLink);\n",
              "        }\n",
              "      </script>\n",
              "    </div>\n",
              "  </div>\n",
              "  "
            ]
          },
          "metadata": {},
          "execution_count": 201
        }
      ]
    },
    {
      "cell_type": "code",
      "source": [
        "bins = np.linspace(0, 100, 50)\n",
        "\n",
        "plt.hist(train[train['label'] == 1]['tweet_len'], bins, alpha=0.5, label='1')\n",
        "plt.hist(train[train['label'] == 0]['tweet_len'], bins, alpha=0.5, label='0')\n",
        "plt.legend(loc='upper right')\n",
        "plt.show()"
      ],
      "metadata": {
        "colab": {
          "base_uri": "https://localhost:8080/",
          "height": 347
        },
        "id": "L0Ijp8qt31hb",
        "outputId": "eadb0961-642f-40df-9120-27d6ab568e89"
      },
      "execution_count": 202,
      "outputs": [
        {
          "output_type": "display_data",
          "data": {
            "text/plain": [
              "<Figure size 576x396 with 1 Axes>"
            ],
            "image/png": "[encoded data removed]"
          },
          "metadata": {}
        }
      ]
    },
    {
      "cell_type": "code",
      "source": [
        "# получение списка всех слов в корпусе\n",
        "\n",
        "def get_tweets(data):\n",
        "    tweets = []\n",
        "    for phrase in data:\n",
        "        for word in phrase.split():\n",
        "            tweets.append(word)\n",
        "    return tweets"
      ],
      "metadata": {
        "id": "uW3q220V424w"
      },
      "execution_count": 203,
      "outputs": []
    },
    {
      "cell_type": "code",
      "source": [
        "# Количество уникальных слов в тексте\n",
        "tweets = get_tweets(train['tweet'].values)\n",
        "num_words = len(set(tweets))\n",
        "print(f'Количество уникальных слов в исходном тексте: {num_words}')"
      ],
      "metadata": {
        "colab": {
          "base_uri": "https://localhost:8080/"
        },
        "id": "WxtrKV0h4gaN",
        "outputId": "50395b62-6b3b-4242-8b10-a51f2f83873e"
      },
      "execution_count": 204,
      "outputs": [
        {
          "output_type": "stream",
          "name": "stdout",
          "text": [
            "Количество уникальных слов в исходном тексте: 67223\n"
          ]
        }
      ]
    },
    {
      "cell_type": "markdown",
      "source": [
        "## Предварительная обработка данных<a class=\"anchor\" id=\"data_preprocessing\"></a> "
      ],
      "metadata": {
        "id": "t7jfQE8E3lUx"
      }
    },
    {
      "cell_type": "markdown",
      "source": [
        "### Разделим df_train на тестовую и проверочную части"
      ],
      "metadata": {
        "id": "eCLY2rYvR9k3"
      }
    },
    {
      "cell_type": "code",
      "source": [
        "df_train, df_val = train_test_split(train, test_size=0.2, random_state=42)\n",
        "\n",
        "df_train.reset_index(drop=True, inplace=True)\n",
        "df_val.reset_index(drop=True, inplace=True)\n",
        "\n",
        "df_train.tail()"
      ],
      "metadata": {
        "colab": {
          "base_uri": "https://localhost:8080/",
          "height": 206
        },
        "id": "tXIi2-VRSQ0d",
        "outputId": "ad293154-0d6f-4a5d-988a-d21a5b7ee11c"
      },
      "execution_count": 205,
      "outputs": [
        {
          "output_type": "execute_result",
          "data": {
            "text/plain": [
              "          id  label                                              tweet  \\\n",
              "25564  29803      0  #waltdisneyreso  should be ashamed of themselv...   \n",
              "25565   5391      0   @user invited @user over for a catch up and i...   \n",
              "25566    861      1  black professor makes assumptions about an ent...   \n",
              "25567  15796      0  #lgbtqhatetrumppay is total #liberal trash. it...   \n",
              "25568  23655      0  what makes people   is relative. we have our w...   \n",
              "\n",
              "       tweet_len  punct%  \n",
              "25564        107     2.8  \n",
              "25565        101     5.9  \n",
              "25566         94     2.1  \n",
              "25567        102    10.8  \n",
              "25568         45     4.4  "
            ],
            "text/html": [
              "\n",
              "  <div id=\"df-f328fdf1-2b49-4ab4-9d78-e528787a7b4f\">\n",
              "    <div class=\"colab-df-container\">\n",
              "      <div>\n",
              "<style scoped>\n",
              "    .dataframe tbody tr th:only-of-type {\n",
              "        vertical-align: middle;\n",
              "    }\n",
              "\n",
              "    .dataframe tbody tr th {\n",
              "        vertical-align: top;\n",
              "    }\n",
              "\n",
              "    .dataframe thead th {\n",
              "        text-align: right;\n",
              "    }\n",
              "</style>\n",
              "<table border=\"1\" class=\"dataframe\">\n",
              "  <thead>\n",
              "    <tr style=\"text-align: right;\">\n",
              "      <th></th>\n",
              "      <th>id</th>\n",
              "      <th>label</th>\n",
              "      <th>tweet</th>\n",
              "      <th>tweet_len</th>\n",
              "      <th>punct%</th>\n",
              "    </tr>\n",
              "  </thead>\n",
              "  <tbody>\n",
              "    <tr>\n",
              "      <th>25564</th>\n",
              "      <td>29803</td>\n",
              "      <td>0</td>\n",
              "      <td>#waltdisneyreso  should be ashamed of themselv...</td>\n",
              "      <td>107</td>\n",
              "      <td>2.8</td>\n",
              "    </tr>\n",
              "    <tr>\n",
              "      <th>25565</th>\n",
              "      <td>5391</td>\n",
              "      <td>0</td>\n",
              "      <td>@user invited @user over for a catch up and i...</td>\n",
              "      <td>101</td>\n",
              "      <td>5.9</td>\n",
              "    </tr>\n",
              "    <tr>\n",
              "      <th>25566</th>\n",
              "      <td>861</td>\n",
              "      <td>1</td>\n",
              "      <td>black professor makes assumptions about an ent...</td>\n",
              "      <td>94</td>\n",
              "      <td>2.1</td>\n",
              "    </tr>\n",
              "    <tr>\n",
              "      <th>25567</th>\n",
              "      <td>15796</td>\n",
              "      <td>0</td>\n",
              "      <td>#lgbtqhatetrumppay is total #liberal trash. it...</td>\n",
              "      <td>102</td>\n",
              "      <td>10.8</td>\n",
              "    </tr>\n",
              "    <tr>\n",
              "      <th>25568</th>\n",
              "      <td>23655</td>\n",
              "      <td>0</td>\n",
              "      <td>what makes people   is relative. we have our w...</td>\n",
              "      <td>45</td>\n",
              "      <td>4.4</td>\n",
              "    </tr>\n",
              "  </tbody>\n",
              "</table>\n",
              "</div>\n",
              "      <button class=\"colab-df-convert\" onclick=\"convertToInteractive('df-f328fdf1-2b49-4ab4-9d78-e528787a7b4f')\"\n",
              "              title=\"Convert this dataframe to an interactive table.\"\n",
              "              style=\"display:none;\">\n",
              "        \n",
              "  <svg xmlns=\"http://www.w3.org/2000/svg\" height=\"24px\"viewBox=\"0 0 24 24\"\n",
              "       width=\"24px\">\n",
              "    <path d=\"M0 0h24v24H0V0z\" fill=\"none\"/>\n",
              "    <path d=\"M18.56 5.44l.94 2.06.94-2.06 2.06-.94-2.06-.94-.94-2.06-.94 2.06-2.06.94zm-11 1L8.5 8.5l.94-2.06 2.06-.94-2.06-.94L8.5 2.5l-.94 2.06-2.06.94zm10 10l.94 2.06.94-2.06 2.06-.94-2.06-.94-.94-2.06-.94 2.06-2.06.94z\"/><path d=\"M17.41 7.96l-1.37-1.37c-.4-.4-.92-.59-1.43-.59-.52 0-1.04.2-1.43.59L10.3 9.45l-7.72 7.72c-.78.78-.78 2.05 0 2.83L4 21.41c.39.39.9.59 1.41.59.51 0 1.02-.2 1.41-.59l7.78-7.78 2.81-2.81c.8-.78.8-2.07 0-2.86zM5.41 20L4 18.59l7.72-7.72 1.47 1.35L5.41 20z\"/>\n",
              "  </svg>\n",
              "      </button>\n",
              "      \n",
              "  <style>\n",
              "    .colab-df-container {\n",
              "      display:flex;\n",
              "      flex-wrap:wrap;\n",
              "      gap: 12px;\n",
              "    }\n",
              "\n",
              "    .colab-df-convert {\n",
              "      background-color: #E8F0FE;\n",
              "      border: none;\n",
              "      border-radius: 50%;\n",
              "      cursor: pointer;\n",
              "      display: none;\n",
              "      fill: #1967D2;\n",
              "      height: 32px;\n",
              "      padding: 0 0 0 0;\n",
              "      width: 32px;\n",
              "    }\n",
              "\n",
              "    .colab-df-convert:hover {\n",
              "      background-color: #E2EBFA;\n",
              "      box-shadow: 0px 1px 2px rgba(60, 64, 67, 0.3), 0px 1px 3px 1px rgba(60, 64, 67, 0.15);\n",
              "      fill: #174EA6;\n",
              "    }\n",
              "\n",
              "    [theme=dark] .colab-df-convert {\n",
              "      background-color: #3B4455;\n",
              "      fill: #D2E3FC;\n",
              "    }\n",
              "\n",
              "    [theme=dark] .colab-df-convert:hover {\n",
              "      background-color: #434B5C;\n",
              "      box-shadow: 0px 1px 3px 1px rgba(0, 0, 0, 0.15);\n",
              "      filter: drop-shadow(0px 1px 2px rgba(0, 0, 0, 0.3));\n",
              "      fill: #FFFFFF;\n",
              "    }\n",
              "  </style>\n",
              "\n",
              "      <script>\n",
              "        const buttonEl =\n",
              "          document.querySelector('#df-f328fdf1-2b49-4ab4-9d78-e528787a7b4f button.colab-df-convert');\n",
              "        buttonEl.style.display =\n",
              "          google.colab.kernel.accessAllowed ? 'block' : 'none';\n",
              "\n",
              "        async function convertToInteractive(key) {\n",
              "          const element = document.querySelector('#df-f328fdf1-2b49-4ab4-9d78-e528787a7b4f');\n",
              "          const dataTable =\n",
              "            await google.colab.kernel.invokeFunction('convertToInteractive',\n",
              "                                                     [key], {});\n",
              "          if (!dataTable) return;\n",
              "\n",
              "          const docLinkHtml = 'Like what you see? Visit the ' +\n",
              "            '<a target=\"_blank\" href=https://colab.research.google.com/notebooks/data_table.ipynb>data table notebook</a>'\n",
              "            + ' to learn more about interactive tables.';\n",
              "          element.innerHTML = '';\n",
              "          dataTable['output_type'] = 'display_data';\n",
              "          await google.colab.output.renderOutput(dataTable, element);\n",
              "          const docLink = document.createElement('div');\n",
              "          docLink.innerHTML = docLinkHtml;\n",
              "          element.appendChild(docLink);\n",
              "        }\n",
              "      </script>\n",
              "    </div>\n",
              "  </div>\n",
              "  "
            ]
          },
          "metadata": {},
          "execution_count": 205
        }
      ]
    },
    {
      "cell_type": "code",
      "source": [
        "sw = set(get_stop_words(\"en\"))\n",
        "# sw"
      ],
      "metadata": {
        "id": "DM52zz0y2t4e"
      },
      "execution_count": 206,
      "outputs": []
    },
    {
      "cell_type": "code",
      "source": [
        "# Уберём из них отрицание, так как, допустим, оно несёт смысл\n",
        "sw.remove('not')\n",
        "sw.remove('nor')\n",
        "sw.remove('no')"
      ],
      "metadata": {
        "id": "8zPFqFhN6tfo"
      },
      "execution_count": 207,
      "outputs": []
    },
    {
      "cell_type": "code",
      "source": [
        "# Обозначим возможные символы\n",
        "ascii_plus = ascii_lowercase + \"' \"\n",
        "ascii_plus"
      ],
      "metadata": {
        "colab": {
          "base_uri": "https://localhost:8080/",
          "height": 35
        },
        "id": "wx7FRaRg615P",
        "outputId": "bf959697-7937-4842-b611-81390280e27e"
      },
      "execution_count": 208,
      "outputs": [
        {
          "output_type": "execute_result",
          "data": {
            "text/plain": [
              "\"abcdefghijklmnopqrstuvwxyz' \""
            ],
            "application/vnd.google.colaboratory.intrinsic+json": {
              "type": "string"
            }
          },
          "metadata": {},
          "execution_count": 208
        }
      ]
    },
    {
      "cell_type": "markdown",
      "source": [
        "Попробуем развернуть сокращения с отрицанием, чтобы его оттуда вытянуть"
      ],
      "metadata": {
        "id": "HVLe4GZz9UNG"
      }
    },
    {
      "cell_type": "code",
      "source": [
        "contractions = { \n",
        "\"ain't\": \"am not\",\n",
        "\"aren't\": \"are not\",\n",
        "\"can't\": \"can not\",\n",
        "\"can't've\": \"can not have\",\n",
        "\"couldn't\": \"could not\",\n",
        "\"couldn't've\": \"could not have\",\n",
        "\"didn't\": \"did not\",\n",
        "\"doesn't\": \"does not\",\n",
        "\"don't\": \"do not\",\n",
        "\"hadn't\": \"had not\",\n",
        "\"hadn't've\": \"had not have\",\n",
        "\"hasn't\": \"has not\",\n",
        "\"haven't\": \"have not\",\n",
        "\"isn't\": \"is not\",\n",
        "\"mayn't\": \"may not\",\n",
        "\"mightn't\": \"might not\",\n",
        "\"mightn't've\": \"might not have\",\n",
        "\"mustn't\": \"must not\",\n",
        "\"mustn't've\": \"must not have\",\n",
        "\"needn't\": \"need not\",\n",
        "\"needn't've\": \"need not have\",\n",
        "\"oughtn't\": \"ought not\",\n",
        "\"oughtn't've\": \"ought not have\",\n",
        "\"shan't\": \"shall not\",\n",
        "\"sha'n't\": \"shall not\",\n",
        "\"shan't've\": \"shall not have\",\n",
        "\"shouldn't\": \"should not\",\n",
        "\"shouldn't've\": \"should not have\",\n",
        "\"wasn't\": \"was not\",\n",
        "\"weren't\": \"were not\",\n",
        "\"won't\": \"will not\",\n",
        "\"won't've\": \"will not have\",\n",
        "\"wouldn't\": \"would not\",\n",
        "\"wouldn't've\": \"would not have\"\n",
        "}"
      ],
      "metadata": {
        "id": "sV7XrSUJ9VBZ"
      },
      "execution_count": 209,
      "outputs": []
    },
    {
      "cell_type": "code",
      "source": [
        "lemmatizer = nltk.stem.WordNetLemmatizer()\n",
        "lemmatizer.lemmatize('feet')"
      ],
      "metadata": {
        "colab": {
          "base_uri": "https://localhost:8080/",
          "height": 35
        },
        "id": "ugOKfbME67Sf",
        "outputId": "f6ca3dfd-85d8-47e8-b409-b36b49688cec"
      },
      "execution_count": 210,
      "outputs": [
        {
          "output_type": "execute_result",
          "data": {
            "text/plain": [
              "'foot'"
            ],
            "application/vnd.google.colaboratory.intrinsic+json": {
              "type": "string"
            }
          },
          "metadata": {},
          "execution_count": 210
        }
      ]
    },
    {
      "cell_type": "code",
      "source": [
        "# Соединим отрицание с последующем информативным словом\n",
        "\n",
        "def preprocess_text(txt, ascii_plus, contractions, lemmatizer):\n",
        "    txt = str(txt)\n",
        "    txt = txt.lower()\n",
        "    txt = \"\".join(s for s in txt if s in ascii_plus)\n",
        "    txt = \" \".join(contractions[word] if word in contractions.keys() else word for word in txt.split())\n",
        "    txt = \"\".join(s for s in txt if s != \"'\")\n",
        "    txt = \" \".join(lemmatizer.lemmatize(word) for word in txt.split() if word not in sw)\n",
        "    txt = re.sub(\"not\\s\", \"not\", txt)\n",
        "    txt = re.sub(\"nor\\s\", \"nor\", txt)\n",
        "    txt = re.sub(\"no\\s\", \"no\", txt)\n",
        "    return txt"
      ],
      "metadata": {
        "id": "d7QDl7cU7OqW"
      },
      "execution_count": 211,
      "outputs": []
    },
    {
      "cell_type": "code",
      "source": [
        "df_train['tweet'][1]"
      ],
      "metadata": {
        "colab": {
          "base_uri": "https://localhost:8080/",
          "height": 35
        },
        "id": "UjTcmQvO9N66",
        "outputId": "2fc7d102-2724-46df-c07d-0877b4cf0b84"
      },
      "execution_count": 212,
      "outputs": [
        {
          "output_type": "execute_result",
          "data": {
            "text/plain": [
              "' @user raft building at salford quays as pa of the gmw fun outdoors badge #guides  @user '"
            ],
            "application/vnd.google.colaboratory.intrinsic+json": {
              "type": "string"
            }
          },
          "metadata": {},
          "execution_count": 212
        }
      ]
    },
    {
      "cell_type": "code",
      "source": [
        "preprocess_text(df_train['tweet'][1], ascii_plus, contractions, lemmatizer)"
      ],
      "metadata": {
        "colab": {
          "base_uri": "https://localhost:8080/",
          "height": 35
        },
        "id": "j28SfmuM9Zux",
        "outputId": "a65673f0-634e-4fd2-f97b-49f301ceeb5b"
      },
      "execution_count": 213,
      "outputs": [
        {
          "output_type": "execute_result",
          "data": {
            "text/plain": [
              "'user raft building salford quay pa gmw fun outdoors badge guide user'"
            ],
            "application/vnd.google.colaboratory.intrinsic+json": {
              "type": "string"
            }
          },
          "metadata": {},
          "execution_count": 213
        }
      ]
    },
    {
      "cell_type": "code",
      "source": [
        "df_train['tweet'].tail()"
      ],
      "metadata": {
        "colab": {
          "base_uri": "https://localhost:8080/"
        },
        "id": "ASF-V1Dv9jRR",
        "outputId": "b23f8d4e-e54b-452c-a8ca-2c674243572f"
      },
      "execution_count": 214,
      "outputs": [
        {
          "output_type": "execute_result",
          "data": {
            "text/plain": [
              "25564    #waltdisneyreso  should be ashamed of themselv...\n",
              "25565     @user invited @user over for a catch up and i...\n",
              "25566    black professor makes assumptions about an ent...\n",
              "25567    #lgbtqhatetrumppay is total #liberal trash. it...\n",
              "25568    what makes people   is relative. we have our w...\n",
              "Name: tweet, dtype: object"
            ]
          },
          "metadata": {},
          "execution_count": 214
        }
      ]
    },
    {
      "cell_type": "code",
      "source": [
        "df_train['tweet'] = df_train['tweet'].apply(lambda txt: preprocess_text(txt, ascii_plus, contractions, lemmatizer))\n",
        "df_val['tweet'] = df_val['tweet'].apply(lambda txt: preprocess_text(txt, ascii_plus, contractions, lemmatizer))\n",
        "df_train['tweet'].tail()"
      ],
      "metadata": {
        "colab": {
          "base_uri": "https://localhost:8080/"
        },
        "id": "eIA2u7W995UR",
        "outputId": "d6ecfbe4-03a6-4bff-c5c0-824fea2fb4be"
      },
      "execution_count": 216,
      "outputs": [
        {
          "output_type": "execute_result",
          "data": {
            "text/plain": [
              "25564    waltdisneyreso ashamed knew alligator beach si...\n",
              "25565    user invited user catch notstop talking much l...\n",
              "25566    black professor make assumption entire race wh...\n",
              "25567    lgbtqhatetrumppay total liberal trash amp path...\n",
              "25568                      make people relative way africa\n",
              "Name: tweet, dtype: object"
            ]
          },
          "metadata": {},
          "execution_count": 216
        }
      ]
    },
    {
      "cell_type": "code",
      "source": [
        "df_train.head()"
      ],
      "metadata": {
        "colab": {
          "base_uri": "https://localhost:8080/",
          "height": 206
        },
        "id": "27JioOit_sVp",
        "outputId": "9faecbf7-d1b6-4d5b-9899-41ce30b9c971"
      },
      "execution_count": 217,
      "outputs": [
        {
          "output_type": "execute_result",
          "data": {
            "text/plain": [
              "      id  label                                              tweet  tweet_len  \\\n",
              "0  12111      1  user user user ive paying attention past year ...         75   \n",
              "1  14082      0  user raft building salford quay pa gmw fun out...         71   \n",
              "2   1830      0  friday gdegblog friday selfie beard gayguy gay...         88   \n",
              "3   2770      0                                  fashion true fact         22   \n",
              "4  31819      0  share simple elegant businesscards designed gr...         76   \n",
              "\n",
              "   punct%  \n",
              "0     9.3  \n",
              "1     4.2  \n",
              "2    10.2  \n",
              "3     9.1  \n",
              "4     9.2  "
            ],
            "text/html": [
              "\n",
              "  <div id=\"df-5bde2d95-7def-4b5d-be63-a1efe9ea686e\">\n",
              "    <div class=\"colab-df-container\">\n",
              "      <div>\n",
              "<style scoped>\n",
              "    .dataframe tbody tr th:only-of-type {\n",
              "        vertical-align: middle;\n",
              "    }\n",
              "\n",
              "    .dataframe tbody tr th {\n",
              "        vertical-align: top;\n",
              "    }\n",
              "\n",
              "    .dataframe thead th {\n",
              "        text-align: right;\n",
              "    }\n",
              "</style>\n",
              "<table border=\"1\" class=\"dataframe\">\n",
              "  <thead>\n",
              "    <tr style=\"text-align: right;\">\n",
              "      <th></th>\n",
              "      <th>id</th>\n",
              "      <th>label</th>\n",
              "      <th>tweet</th>\n",
              "      <th>tweet_len</th>\n",
              "      <th>punct%</th>\n",
              "    </tr>\n",
              "  </thead>\n",
              "  <tbody>\n",
              "    <tr>\n",
              "      <th>0</th>\n",
              "      <td>12111</td>\n",
              "      <td>1</td>\n",
              "      <td>user user user ive paying attention past year ...</td>\n",
              "      <td>75</td>\n",
              "      <td>9.3</td>\n",
              "    </tr>\n",
              "    <tr>\n",
              "      <th>1</th>\n",
              "      <td>14082</td>\n",
              "      <td>0</td>\n",
              "      <td>user raft building salford quay pa gmw fun out...</td>\n",
              "      <td>71</td>\n",
              "      <td>4.2</td>\n",
              "    </tr>\n",
              "    <tr>\n",
              "      <th>2</th>\n",
              "      <td>1830</td>\n",
              "      <td>0</td>\n",
              "      <td>friday gdegblog friday selfie beard gayguy gay...</td>\n",
              "      <td>88</td>\n",
              "      <td>10.2</td>\n",
              "    </tr>\n",
              "    <tr>\n",
              "      <th>3</th>\n",
              "      <td>2770</td>\n",
              "      <td>0</td>\n",
              "      <td>fashion true fact</td>\n",
              "      <td>22</td>\n",
              "      <td>9.1</td>\n",
              "    </tr>\n",
              "    <tr>\n",
              "      <th>4</th>\n",
              "      <td>31819</td>\n",
              "      <td>0</td>\n",
              "      <td>share simple elegant businesscards designed gr...</td>\n",
              "      <td>76</td>\n",
              "      <td>9.2</td>\n",
              "    </tr>\n",
              "  </tbody>\n",
              "</table>\n",
              "</div>\n",
              "      <button class=\"colab-df-convert\" onclick=\"convertToInteractive('df-5bde2d95-7def-4b5d-be63-a1efe9ea686e')\"\n",
              "              title=\"Convert this dataframe to an interactive table.\"\n",
              "              style=\"display:none;\">\n",
              "        \n",
              "  <svg xmlns=\"http://www.w3.org/2000/svg\" height=\"24px\"viewBox=\"0 0 24 24\"\n",
              "       width=\"24px\">\n",
              "    <path d=\"M0 0h24v24H0V0z\" fill=\"none\"/>\n",
              "    <path d=\"M18.56 5.44l.94 2.06.94-2.06 2.06-.94-2.06-.94-.94-2.06-.94 2.06-2.06.94zm-11 1L8.5 8.5l.94-2.06 2.06-.94-2.06-.94L8.5 2.5l-.94 2.06-2.06.94zm10 10l.94 2.06.94-2.06 2.06-.94-2.06-.94-.94-2.06-.94 2.06-2.06.94z\"/><path d=\"M17.41 7.96l-1.37-1.37c-.4-.4-.92-.59-1.43-.59-.52 0-1.04.2-1.43.59L10.3 9.45l-7.72 7.72c-.78.78-.78 2.05 0 2.83L4 21.41c.39.39.9.59 1.41.59.51 0 1.02-.2 1.41-.59l7.78-7.78 2.81-2.81c.8-.78.8-2.07 0-2.86zM5.41 20L4 18.59l7.72-7.72 1.47 1.35L5.41 20z\"/>\n",
              "  </svg>\n",
              "      </button>\n",
              "      \n",
              "  <style>\n",
              "    .colab-df-container {\n",
              "      display:flex;\n",
              "      flex-wrap:wrap;\n",
              "      gap: 12px;\n",
              "    }\n",
              "\n",
              "    .colab-df-convert {\n",
              "      background-color: #E8F0FE;\n",
              "      border: none;\n",
              "      border-radius: 50%;\n",
              "      cursor: pointer;\n",
              "      display: none;\n",
              "      fill: #1967D2;\n",
              "      height: 32px;\n",
              "      padding: 0 0 0 0;\n",
              "      width: 32px;\n",
              "    }\n",
              "\n",
              "    .colab-df-convert:hover {\n",
              "      background-color: #E2EBFA;\n",
              "      box-shadow: 0px 1px 2px rgba(60, 64, 67, 0.3), 0px 1px 3px 1px rgba(60, 64, 67, 0.15);\n",
              "      fill: #174EA6;\n",
              "    }\n",
              "\n",
              "    [theme=dark] .colab-df-convert {\n",
              "      background-color: #3B4455;\n",
              "      fill: #D2E3FC;\n",
              "    }\n",
              "\n",
              "    [theme=dark] .colab-df-convert:hover {\n",
              "      background-color: #434B5C;\n",
              "      box-shadow: 0px 1px 3px 1px rgba(0, 0, 0, 0.15);\n",
              "      filter: drop-shadow(0px 1px 2px rgba(0, 0, 0, 0.3));\n",
              "      fill: #FFFFFF;\n",
              "    }\n",
              "  </style>\n",
              "\n",
              "      <script>\n",
              "        const buttonEl =\n",
              "          document.querySelector('#df-5bde2d95-7def-4b5d-be63-a1efe9ea686e button.colab-df-convert');\n",
              "        buttonEl.style.display =\n",
              "          google.colab.kernel.accessAllowed ? 'block' : 'none';\n",
              "\n",
              "        async function convertToInteractive(key) {\n",
              "          const element = document.querySelector('#df-5bde2d95-7def-4b5d-be63-a1efe9ea686e');\n",
              "          const dataTable =\n",
              "            await google.colab.kernel.invokeFunction('convertToInteractive',\n",
              "                                                     [key], {});\n",
              "          if (!dataTable) return;\n",
              "\n",
              "          const docLinkHtml = 'Like what you see? Visit the ' +\n",
              "            '<a target=\"_blank\" href=https://colab.research.google.com/notebooks/data_table.ipynb>data table notebook</a>'\n",
              "            + ' to learn more about interactive tables.';\n",
              "          element.innerHTML = '';\n",
              "          dataTable['output_type'] = 'display_data';\n",
              "          await google.colab.output.renderOutput(dataTable, element);\n",
              "          const docLink = document.createElement('div');\n",
              "          docLink.innerHTML = docLinkHtml;\n",
              "          element.appendChild(docLink);\n",
              "        }\n",
              "      </script>\n",
              "    </div>\n",
              "  </div>\n",
              "  "
            ]
          },
          "metadata": {},
          "execution_count": 217
        }
      ]
    },
    {
      "cell_type": "markdown",
      "source": [
        "Отфильтруем данные и соберём в корпус N наиболее частых токенов"
      ],
      "metadata": {
        "id": "1wdSAI4ZDwiB"
      }
    },
    {
      "cell_type": "code",
      "source": [
        "df_train['tweet'].apply(lambda txt: nltk.tokenize.word_tokenize(txt) != txt.split()).sum()"
      ],
      "metadata": {
        "colab": {
          "base_uri": "https://localhost:8080/"
        },
        "id": "MGOZ0q3mA5iE",
        "outputId": "89975d1a-9aee-4fcc-eb59-de84238d20b4"
      },
      "execution_count": 218,
      "outputs": [
        {
          "output_type": "execute_result",
          "data": {
            "text/plain": [
              "194"
            ]
          },
          "metadata": {},
          "execution_count": 218
        }
      ]
    },
    {
      "cell_type": "markdown",
      "source": [
        "Сравнивая токенизацию и split, находим, что они отличаются только в 240 примерах"
      ],
      "metadata": {
        "id": "1bjy_zLKCTne"
      }
    },
    {
      "cell_type": "code",
      "source": [
        "j = 0\n",
        "for i in df_train['tweet'].apply(lambda txt: nltk.tokenize.word_tokenize(txt) != txt.split()):\n",
        "  if i:\n",
        "    print(j)\n",
        "    break\n",
        "  j +=1"
      ],
      "metadata": {
        "colab": {
          "base_uri": "https://localhost:8080/"
        },
        "id": "F_z7EsaLB7Xy",
        "outputId": "1a7666d6-eea7-4c83-81a3-47cbb032ce1f"
      },
      "execution_count": 219,
      "outputs": [
        {
          "output_type": "stream",
          "name": "stdout",
          "text": [
            "13\n"
          ]
        }
      ]
    },
    {
      "cell_type": "code",
      "source": [
        "df_train['tweet'][j]"
      ],
      "metadata": {
        "colab": {
          "base_uri": "https://localhost:8080/",
          "height": 35
        },
        "id": "9lzhj2xzCYGQ",
        "outputId": "8002b42d-6e1b-4503-b06a-49e97d7c5132"
      },
      "execution_count": 220,
      "outputs": [
        {
          "output_type": "execute_result",
          "data": {
            "text/plain": [
              "'udtapunjabtoflytomorrow set im gonna fly high tomorrow user user'"
            ],
            "application/vnd.google.colaboratory.intrinsic+json": {
              "type": "string"
            }
          },
          "metadata": {},
          "execution_count": 220
        }
      ]
    },
    {
      "cell_type": "code",
      "source": [
        "df_train['tweet'][j].split()"
      ],
      "metadata": {
        "colab": {
          "base_uri": "https://localhost:8080/"
        },
        "id": "kF1MXW_ZCgQg",
        "outputId": "50902cfd-63d7-45b0-ba1e-ef0541bf2cbf"
      },
      "execution_count": 221,
      "outputs": [
        {
          "output_type": "execute_result",
          "data": {
            "text/plain": [
              "['udtapunjabtoflytomorrow',\n",
              " 'set',\n",
              " 'im',\n",
              " 'gonna',\n",
              " 'fly',\n",
              " 'high',\n",
              " 'tomorrow',\n",
              " 'user',\n",
              " 'user']"
            ]
          },
          "metadata": {},
          "execution_count": 221
        }
      ]
    },
    {
      "cell_type": "code",
      "source": [
        "nltk.tokenize.word_tokenize(df_train['tweet'][j])"
      ],
      "metadata": {
        "colab": {
          "base_uri": "https://localhost:8080/"
        },
        "id": "EOMAoWMrCk8g",
        "outputId": "8994e2f0-0cb1-4024-d4f4-0d45aae056ac"
      },
      "execution_count": 222,
      "outputs": [
        {
          "output_type": "execute_result",
          "data": {
            "text/plain": [
              "['udtapunjabtoflytomorrow',\n",
              " 'set',\n",
              " 'im',\n",
              " 'gon',\n",
              " 'na',\n",
              " 'fly',\n",
              " 'high',\n",
              " 'tomorrow',\n",
              " 'user',\n",
              " 'user']"
            ]
          },
          "metadata": {},
          "execution_count": 222
        }
      ]
    },
    {
      "cell_type": "code",
      "source": [
        "df_train['tweet'] = df_train['tweet'].apply(lambda txt: txt.split())\n",
        "df_val['tweet'] = df_val['tweet'].apply(lambda txt: txt.split())\n",
        "df_train['tweet'].tail()"
      ],
      "metadata": {
        "colab": {
          "base_uri": "https://localhost:8080/"
        },
        "id": "bz4ppru7C32X",
        "outputId": "85dd661e-b139-4f1e-b2ac-a35f721a8b57"
      },
      "execution_count": 223,
      "outputs": [
        {
          "output_type": "execute_result",
          "data": {
            "text/plain": [
              "25564    [waltdisneyreso, ashamed, knew, alligator, bea...\n",
              "25565    [user, invited, user, catch, notstop, talking,...\n",
              "25566    [black, professor, make, assumption, entire, r...\n",
              "25567    [lgbtqhatetrumppay, total, liberal, trash, amp...\n",
              "25568                [make, people, relative, way, africa]\n",
              "Name: tweet, dtype: object"
            ]
          },
          "metadata": {},
          "execution_count": 223
        }
      ]
    },
    {
      "cell_type": "code",
      "source": [
        "tokens = dict()\n",
        "\n",
        "for txt in df_train['tweet']:\n",
        "  for word in txt:\n",
        "    tokens[word] = tokens.get(word, 0) + 1\n",
        "\n",
        "sorted_tokens = sorted(tokens, key=tokens.get, reverse=True)"
      ],
      "metadata": {
        "id": "plN01BTyDH6m"
      },
      "execution_count": 224,
      "outputs": []
    },
    {
      "cell_type": "code",
      "source": [
        "for i in range(10):\n",
        "  print(sorted_tokens[i], tokens[sorted_tokens[i]])"
      ],
      "metadata": {
        "colab": {
          "base_uri": "https://localhost:8080/"
        },
        "id": "M5g5uW9QDNWH",
        "outputId": "771d528d-d61d-46fb-bc9a-1d3336c392be"
      },
      "execution_count": 225,
      "outputs": [
        {
          "output_type": "stream",
          "name": "stdout",
          "text": [
            "user 13903\n",
            "day 2237\n",
            "love 2200\n",
            "u 1328\n",
            "happy 1320\n",
            "amp 1290\n",
            "can 1174\n",
            "will 1096\n",
            "just 1044\n",
            "life 1008\n"
          ]
        }
      ]
    },
    {
      "cell_type": "code",
      "source": [
        "len(sorted_tokens)"
      ],
      "metadata": {
        "colab": {
          "base_uri": "https://localhost:8080/"
        },
        "id": "hU0NcDi0DSx5",
        "outputId": "cc847951-61a7-468c-bf5a-39722cb2354d"
      },
      "execution_count": 226,
      "outputs": [
        {
          "output_type": "execute_result",
          "data": {
            "text/plain": [
              "33447"
            ]
          },
          "metadata": {},
          "execution_count": 226
        }
      ]
    },
    {
      "cell_type": "markdown",
      "source": [
        "Возьмём из токенов первые max_words-1 элементов, так как у нас будет ещё один элемент 0, обозначающий отсутсвие слова"
      ],
      "metadata": {
        "id": "EwsJPuQ4IC92"
      }
    },
    {
      "cell_type": "code",
      "source": [
        "max_words = 10000\n",
        "max_words"
      ],
      "metadata": {
        "colab": {
          "base_uri": "https://localhost:8080/"
        },
        "id": "9Z5fYlsPKMdI",
        "outputId": "11d64d8e-49a7-4b11-fb06-4df1bef86087"
      },
      "execution_count": 227,
      "outputs": [
        {
          "output_type": "execute_result",
          "data": {
            "text/plain": [
              "10000"
            ]
          },
          "metadata": {},
          "execution_count": 227
        }
      ]
    },
    {
      "cell_type": "code",
      "source": [
        "vocabulary = {w: i for i, w in enumerate(sorted_tokens[:max_words-1], 1)}\n",
        "for i in list(vocabulary.keys())[:10]:\n",
        "  print(i, vocabulary[i])"
      ],
      "metadata": {
        "colab": {
          "base_uri": "https://localhost:8080/"
        },
        "id": "1mwoV6TADWze",
        "outputId": "590593f3-4c61-457b-9c3d-0b59a1514909"
      },
      "execution_count": 228,
      "outputs": [
        {
          "output_type": "stream",
          "name": "stdout",
          "text": [
            "user 1\n",
            "day 2\n",
            "love 3\n",
            "u 4\n",
            "happy 5\n",
            "amp 6\n",
            "can 7\n",
            "will 8\n",
            "just 9\n",
            "life 10\n"
          ]
        }
      ]
    },
    {
      "cell_type": "code",
      "source": [
        "sorted_tokens[max_words-1], tokens[sorted_tokens[max_words-1]]"
      ],
      "metadata": {
        "colab": {
          "base_uri": "https://localhost:8080/"
        },
        "id": "NfdFREsPEZbn",
        "outputId": "0647f997-bc80-4b52-de41-59fe142fdae1"
      },
      "execution_count": 229,
      "outputs": [
        {
          "output_type": "execute_result",
          "data": {
            "text/plain": [
              "('bfs', 2)"
            ]
          },
          "metadata": {},
          "execution_count": 229
        }
      ]
    },
    {
      "cell_type": "markdown",
      "source": [
        "Последний взятый токен встречался всего 2 раза, значит можно предположить, что наш словарь имеет почти все информативные слова"
      ],
      "metadata": {
        "id": "6P1Ly2jXJJrq"
      }
    },
    {
      "cell_type": "markdown",
      "source": [
        "### Определим рабочую длину строки"
      ],
      "metadata": {
        "id": "1q5wCWtNJuxC"
      }
    },
    {
      "cell_type": "code",
      "source": [
        "df_train['tweet'].apply(lambda txt: len(txt)).max()"
      ],
      "metadata": {
        "colab": {
          "base_uri": "https://localhost:8080/"
        },
        "id": "EPCqz6ToHwq9",
        "outputId": "3a0cf1d6-e716-410a-b435-d2f93bb343b1"
      },
      "execution_count": 230,
      "outputs": [
        {
          "output_type": "execute_result",
          "data": {
            "text/plain": [
              "24"
            ]
          },
          "metadata": {},
          "execution_count": 230
        }
      ]
    },
    {
      "cell_type": "code",
      "source": [
        "df_train['tweet'].apply(lambda txt: len(txt)).mean()"
      ],
      "metadata": {
        "colab": {
          "base_uri": "https://localhost:8080/"
        },
        "id": "e8Fi3dpEJMSy",
        "outputId": "1496011d-e62c-44ce-e82f-6d559c31b5c9"
      },
      "execution_count": 231,
      "outputs": [
        {
          "output_type": "execute_result",
          "data": {
            "text/plain": [
              "8.402948883413508"
            ]
          },
          "metadata": {},
          "execution_count": 231
        }
      ]
    },
    {
      "cell_type": "code",
      "source": [
        "max_len = 10\n",
        "max_len"
      ],
      "metadata": {
        "colab": {
          "base_uri": "https://localhost:8080/"
        },
        "id": "PeQ_AhLlJ4Xs",
        "outputId": "071a8606-547f-47a2-da23-6a6fdb1e1acc"
      },
      "execution_count": 232,
      "outputs": [
        {
          "output_type": "execute_result",
          "data": {
            "text/plain": [
              "10"
            ]
          },
          "metadata": {},
          "execution_count": 232
        }
      ]
    },
    {
      "cell_type": "markdown",
      "source": [
        "Такой максимальной длиной мы довольно хорошо описываем наши примеры, так как она больше средней, при этом не перегружаем модель, как если бы мы брали максимальную длину примеров"
      ],
      "metadata": {
        "id": "Tx8BnZwrJrfa"
      }
    },
    {
      "cell_type": "markdown",
      "source": [
        "Приведём данные к числовым векторам одинаковой длины"
      ],
      "metadata": {
        "id": "2r8Ts1dZKkov"
      }
    },
    {
      "cell_type": "code",
      "source": [
        "def text_to_sequence(txt, vocabulary, maxlen):\n",
        "  response = []\n",
        "  for w in txt:\n",
        "    if w in vocabulary.keys():\n",
        "      response.append(vocabulary[w])\n",
        "    if len(response) == maxlen:\n",
        "      break\n",
        "  response += [0]*(maxlen-len(response))\n",
        "  return response"
      ],
      "metadata": {
        "id": "hCZTcJ2vJTZj"
      },
      "execution_count": 233,
      "outputs": []
    },
    {
      "cell_type": "code",
      "source": [
        "df_train['tweet'] = df_train['tweet'].apply(lambda txt: text_to_sequence(txt, vocabulary, max_len))\n",
        "df_val['tweet'] = df_val['tweet'].apply(lambda txt: text_to_sequence(txt, vocabulary, max_len))\n",
        "df_train['tweet'].tail()"
      ],
      "metadata": {
        "colab": {
          "base_uri": "https://localhost:8080/"
        },
        "id": "NKUYyB9mK-KY",
        "outputId": "b3d843e2-9139-4156-fff7-cdba90089976"
      },
      "execution_count": 234,
      "outputs": [
        {
          "output_type": "execute_result",
          "data": {
            "text/plain": [
              "25564          [2310, 1045, 1323, 178, 671, 1, 0, 0, 0, 0]\n",
              "25565      [1, 3197, 1, 1509, 2416, 677, 80, 3, 201, 1973]\n",
              "25566    [120, 24, 1069, 376, 2446, 2157, 1069, 376, 83...\n",
              "25567           [1434, 343, 2251, 6, 675, 391, 0, 0, 0, 0]\n",
              "25568              [24, 21, 3598, 42, 1702, 0, 0, 0, 0, 0]\n",
              "Name: tweet, dtype: object"
            ]
          },
          "metadata": {},
          "execution_count": 234
        }
      ]
    },
    {
      "cell_type": "markdown",
      "source": [
        "### Построение модели"
      ],
      "metadata": {
        "id": "b2nm2yVgL4f5"
      }
    },
    {
      "cell_type": "code",
      "source": [
        "import torch\n",
        "import torch.nn as nn\n",
        "import torch.nn.functional as F\n",
        "\n",
        "\n",
        "class Net(nn.Module):\n",
        "    def __init__(self, max_len, vocab_size, embedding_dim, out_channel, num_classes):\n",
        "        super().__init__()\n",
        "        self.embedding = nn.Embedding(vocab_size, embedding_dim)\n",
        "        self.conv_1 = nn.Conv1d(embedding_dim, out_channel, kernel_size=2)\n",
        "        self.conv_2 = nn.Conv1d(embedding_dim, out_channel, kernel_size=3)\n",
        "        self.pool = nn.MaxPool1d(2)\n",
        "        self.relu = nn.ReLU()\n",
        "        self.linear_1 = nn.Linear(out_channel, out_channel // 2)\n",
        "        self.linear_2 = nn.Linear(out_channel // 2, num_classes)\n",
        "        \n",
        "    def forward(self, x):        \n",
        "        output = self.embedding(x) # B, L, E\n",
        "        #                       B  E  L         \n",
        "        output = output.permute(0, 2, 1)\n",
        "        output = self.conv_1(output)\n",
        "        output = self.relu(output)\n",
        "        output = self.pool(output)\n",
        "\n",
        "        output = self.conv_2(output)\n",
        "        output = self.relu(output)\n",
        "        output = self.pool(output)\n",
        "        output = torch.max(output, axis=2).values\n",
        "        output = self.linear_1(output)\n",
        "        output = self.relu(output)\n",
        "        output = self.linear_2(output)\n",
        "        output = F.sigmoid(output)\n",
        "        return output"
      ],
      "metadata": {
        "id": "oeQTw9whL4PC"
      },
      "execution_count": 236,
      "outputs": []
    },
    {
      "cell_type": "code",
      "source": [
        "# model = Net(max_len, max_words, 64, 0, 64, 1, 0.2)\n",
        "model = Net(max_len, max_words, 64, 64, 1)"
      ],
      "metadata": {
        "id": "U_Hg8wFnKFm7"
      },
      "execution_count": 237,
      "outputs": []
    },
    {
      "cell_type": "code",
      "source": [
        "print(model)\n",
        "print(\"Parameters:\", sum([param.nelement() for param in model.parameters()]))"
      ],
      "metadata": {
        "colab": {
          "base_uri": "https://localhost:8080/"
        },
        "id": "1Z_Jo9fsUrEN",
        "outputId": "d54e9938-9970-4f6f-dd64-5eb3cf22df24"
      },
      "execution_count": 238,
      "outputs": [
        {
          "output_type": "stream",
          "name": "stdout",
          "text": [
            "Net(\n",
            "  (embedding): Embedding(10000, 64)\n",
            "  (conv_1): Conv1d(64, 64, kernel_size=(2,), stride=(1,))\n",
            "  (conv_2): Conv1d(64, 64, kernel_size=(3,), stride=(1,))\n",
            "  (pool): MaxPool1d(kernel_size=2, stride=2, padding=0, dilation=1, ceil_mode=False)\n",
            "  (relu): ReLU()\n",
            "  (linear_1): Linear(in_features=64, out_features=32, bias=True)\n",
            "  (linear_2): Linear(in_features=32, out_features=1, bias=True)\n",
            ")\n",
            "Parameters: 662721\n"
          ]
        }
      ]
    },
    {
      "cell_type": "code",
      "source": [
        "from torch.utils.data import DataLoader, Dataset\n",
        "\n",
        "\n",
        "class DataWrapper(Dataset):\n",
        "    def __init__(self, data, target):\n",
        "        data_numpy = np.array([[j for j in i] for i in data])\n",
        "        self.data = torch.from_numpy(data_numpy).long()\n",
        "        self.target = torch.from_numpy(target).long()\n",
        "        \n",
        "    def __getitem__(self, index):\n",
        "        x = self.data[index]\n",
        "        y = self.target[index]\n",
        "            \n",
        "        return x, y\n",
        "    \n",
        "    def __len__(self):\n",
        "        return len(self.target)"
      ],
      "metadata": {
        "id": "OtuHo1LiLpRm"
      },
      "execution_count": 239,
      "outputs": []
    },
    {
      "cell_type": "code",
      "source": [
        "batch_size = 1024"
      ],
      "metadata": {
        "id": "NvCWRQ_QT7NB"
      },
      "execution_count": 240,
      "outputs": []
    },
    {
      "cell_type": "code",
      "source": [
        "train_dataset = DataWrapper(df_train['tweet'].values, df_train['label'].values)\n",
        "train_loader = DataLoader(train_dataset, batch_size=batch_size, shuffle=True)\n",
        "\n",
        "val_dataset = DataWrapper(df_val['tweet'].values, df_val['label'].values)\n",
        "val_loader = DataLoader(val_dataset, batch_size=8, shuffle=True)"
      ],
      "metadata": {
        "id": "UQUjqziUM4rB"
      },
      "execution_count": 241,
      "outputs": []
    },
    {
      "cell_type": "markdown",
      "source": [
        "### Обучение"
      ],
      "metadata": {
        "id": "qy8hBhIhUSLR"
      }
    },
    {
      "cell_type": "code",
      "source": [
        "device = 'cuda' if torch.cuda.is_available() else 'cpu'\n",
        "device"
      ],
      "metadata": {
        "colab": {
          "base_uri": "https://localhost:8080/",
          "height": 35
        },
        "id": "s5mPSFXDUSk9",
        "outputId": "f6ec972f-a3c2-4894-9f9b-08b9ae1f1d04"
      },
      "execution_count": 242,
      "outputs": [
        {
          "output_type": "execute_result",
          "data": {
            "text/plain": [
              "'cuda'"
            ],
            "application/vnd.google.colaboratory.intrinsic+json": {
              "type": "string"
            }
          },
          "metadata": {},
          "execution_count": 242
        }
      ]
    },
    {
      "cell_type": "code",
      "source": [
        "def BCE_weigh(weight=1):\n",
        "\n",
        "  def loss(input, target):\n",
        "    input = torch.clamp(input,min=1e-7,max=1-1e-7)\n",
        "    target = torch.clamp(target,min=1e-7,max=1-1e-7)\n",
        "    bce = - weight * target * torch.log(input) - (1 - target) * torch.log(1 - input)\n",
        "    return torch.mean(bce)\n",
        "\n",
        "  return loss"
      ],
      "metadata": {
        "id": "3xmg8QvVVz_P"
      },
      "execution_count": 243,
      "outputs": []
    },
    {
      "cell_type": "code",
      "source": [
        "disbalance = df_train['label'].value_counts()[0] / df_train['label'].value_counts()[1]\n",
        "disbalance"
      ],
      "metadata": {
        "colab": {
          "base_uri": "https://localhost:8080/"
        },
        "id": "ppX5UY2fWH8W",
        "outputId": "d2bb6379-d8fe-498d-95fa-16267a72b8cc"
      },
      "execution_count": 244,
      "outputs": [
        {
          "output_type": "execute_result",
          "data": {
            "text/plain": [
              "13.316349384098544"
            ]
          },
          "metadata": {},
          "execution_count": 244
        }
      ]
    },
    {
      "cell_type": "code",
      "source": [
        "optimizer = torch.optim.Adam(model.parameters(), lr=0.01)\n",
        "# criterion = nn.BCELoss()\n",
        "criterion = BCE_weigh(weight=disbalance)"
      ],
      "metadata": {
        "id": "Im2kzoMrUsrc"
      },
      "execution_count": 245,
      "outputs": []
    },
    {
      "cell_type": "code",
      "source": [
        "model = model.to(device)\n",
        "model.train()\n",
        "epochs = 10\n",
        "th = 0.5\n",
        "\n",
        "train_loss_history = []\n",
        "test_loss_history = []\n",
        "\n",
        "\n",
        "for epoch in range(epochs):  \n",
        "    running_items, running_right = 0.0, 0.0\n",
        "    for i, data in enumerate(train_loader, 0):\n",
        "        inputs, labels = data[0].to(device), data[1].to(device)\n",
        "        \n",
        "        # обнуляем градиент\n",
        "        optimizer.zero_grad()\n",
        "        outputs = model(inputs)\n",
        "        \n",
        "        loss = criterion(outputs, labels.float().view(-1, 1))\n",
        "        loss.backward()\n",
        "        optimizer.step()\n",
        "\n",
        "        # подсчет ошибки на обучении\n",
        "        loss = loss.item()\n",
        "        running_items += len(labels)\n",
        "        # подсчет метрики на обучении\n",
        "        pred_labels = torch.squeeze((outputs > th).int())\n",
        "        running_right += (labels == pred_labels).sum()\n",
        "        \n",
        "    # выводим статистику о процессе обучения\n",
        "    model.eval()\n",
        "    \n",
        "    print(f'Epoch [{epoch + 1}/{epochs}]. ' \\\n",
        "            f'Step [{i + 1}/{len(train_loader)}]. ' \\\n",
        "            f'Loss: {loss:.3f}. ' \\\n",
        "            f'Acc: {running_right / running_items:.3f}', end='. ')\n",
        "    running_loss, running_items, running_right = 0.0, 0.0, 0.0\n",
        "    train_loss_history.append(loss)\n",
        "\n",
        "        # выводим статистику на тестовых данных\n",
        "    test_running_right, test_running_total, test_loss = 0.0, 0.0, 0.0\n",
        "    for j, data in enumerate(val_loader):\n",
        "        test_labels = data[1].to(device)\n",
        "        test_outputs = model(data[0].to(device))\n",
        "        \n",
        "        # подсчет ошибки на тесте\n",
        "        test_loss = criterion(test_outputs, test_labels.float().view(-1, 1))\n",
        "        # подсчет метрики на тесте\n",
        "        test_running_total += len(data[1])\n",
        "        pred_test_labels = torch.squeeze((test_outputs > th).int())\n",
        "        test_running_right += (test_labels == pred_test_labels).sum()\n",
        "    \n",
        "    test_loss_history.append(test_loss.item())\n",
        "    print(f'Test loss: {test_loss:.3f}. Test acc: {test_running_right / test_running_total:.3f}')\n",
        "    \n",
        "    model.train()\n",
        "        \n",
        "print('Training is finished!')"
      ],
      "metadata": {
        "colab": {
          "base_uri": "https://localhost:8080/"
        },
        "id": "3TV2kBM4UzZZ",
        "outputId": "9e9caf5c-02cb-44a5-d90a-59b8473bbe09"
      },
      "execution_count": 246,
      "outputs": [
        {
          "output_type": "stream",
          "name": "stderr",
          "text": [
            "/usr/local/lib/python3.8/dist-packages/torch/nn/functional.py:1967: UserWarning: nn.functional.sigmoid is deprecated. Use torch.sigmoid instead.\n",
            "  warnings.warn(\"nn.functional.sigmoid is deprecated. Use torch.sigmoid instead.\")\n"
          ]
        },
        {
          "output_type": "stream",
          "name": "stdout",
          "text": [
            "Epoch [1/10]. Step [25/25]. Loss: 0.977. Acc: 0.476. Test loss: 0.766. Test acc: 0.850\n",
            "Epoch [2/10]. Step [25/25]. Loss: 0.630. Acc: 0.875. Test loss: 0.008. Test acc: 0.885\n",
            "Epoch [3/10]. Step [25/25]. Loss: 0.371. Acc: 0.939. Test loss: 0.024. Test acc: 0.899\n",
            "Epoch [4/10]. Step [25/25]. Loss: 0.135. Acc: 0.969. Test loss: 31.552. Test acc: 0.941\n",
            "Epoch [5/10]. Step [25/25]. Loss: 0.054. Acc: 0.984. Test loss: 0.000. Test acc: 0.941\n",
            "Epoch [6/10]. Step [25/25]. Loss: 0.033. Acc: 0.991. Test loss: 0.000. Test acc: 0.949\n",
            "Epoch [7/10]. Step [25/25]. Loss: 0.040. Acc: 0.995. Test loss: 0.000. Test acc: 0.946\n",
            "Epoch [8/10]. Step [25/25]. Loss: 0.043. Acc: 0.996. Test loss: 0.000. Test acc: 0.945\n",
            "Epoch [9/10]. Step [25/25]. Loss: 0.007. Acc: 0.998. Test loss: 0.000. Test acc: 0.952\n",
            "Epoch [10/10]. Step [25/25]. Loss: 0.012. Acc: 0.997. Test loss: 0.000. Test acc: 0.947\n",
            "Training is finished!\n"
          ]
        }
      ]
    },
    {
      "cell_type": "code",
      "source": [
        "plt.title('Loss history')\n",
        "plt.grid(True)\n",
        "plt.ylabel('Loss')\n",
        "plt.xlabel('Epoch')\n",
        "plt.plot(train_loss_history, label='train')\n",
        "plt.plot(test_loss_history, label='test')\n",
        "plt.legend();"
      ],
      "metadata": {
        "colab": {
          "base_uri": "https://localhost:8080/",
          "height": 376
        },
        "id": "k-wuaM6DVFNc",
        "outputId": "d3231daa-9553-47a2-8777-8a38707aecd4"
      },
      "execution_count": 248,
      "outputs": [
        {
          "output_type": "display_data",
          "data": {
            "text/plain": [
              "<Figure size 576x396 with 1 Axes>"
            ],
            "image/png": "[encoded data removed]"
          },
          "metadata": {}
        }
      ]
    },
    {
      "cell_type": "code",
      "source": [],
      "metadata": {
        "id": "3qo-hMAKXcuv"
      },
      "execution_count": 248,
      "outputs": []
    }
  ]
}