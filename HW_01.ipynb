{
 "cells": [
  {
   "cell_type": "code",
   "execution_count": 1,
   "metadata": {},
   "outputs": [
    {
     "name": "stdout",
     "output_type": "stream",
     "text": [
      "Requirement already satisfied: torch in /home/gans/miniconda3/lib/python3.10/site-packages (1.13.1)\n",
      "Requirement already satisfied: nvidia-cublas-cu11==11.10.3.66 in /home/gans/miniconda3/lib/python3.10/site-packages (from torch) (11.10.3.66)\n",
      "Requirement already satisfied: nvidia-cuda-runtime-cu11==11.7.99 in /home/gans/miniconda3/lib/python3.10/site-packages (from torch) (11.7.99)\n",
      "Requirement already satisfied: typing-extensions in /home/gans/miniconda3/lib/python3.10/site-packages (from torch) (4.4.0)\n",
      "Requirement already satisfied: nvidia-cuda-nvrtc-cu11==11.7.99 in /home/gans/miniconda3/lib/python3.10/site-packages (from torch) (11.7.99)\n",
      "Requirement already satisfied: nvidia-cudnn-cu11==8.5.0.96 in /home/gans/miniconda3/lib/python3.10/site-packages (from torch) (8.5.0.96)\n",
      "Requirement already satisfied: setuptools in /home/gans/miniconda3/lib/python3.10/site-packages (from nvidia-cublas-cu11==11.10.3.66->torch) (65.5.0)\n",
      "Requirement already satisfied: wheel in /home/gans/miniconda3/lib/python3.10/site-packages (from nvidia-cublas-cu11==11.10.3.66->torch) (0.37.1)\n"
     ]
    }
   ],
   "source": [
    "# !pip3 install torch"
   ]
  },
  {
   "cell_type": "code",
   "execution_count": 2,
   "metadata": {},
   "outputs": [
    {
     "name": "stderr",
     "output_type": "stream",
     "text": [
      "/home/gans/miniconda3/lib/python3.10/site-packages/tqdm/auto.py:22: TqdmWarning: IProgress not found. Please update jupyter and ipywidgets. See https://ipywidgets.readthedocs.io/en/stable/user_install.html\n",
      "  from .autonotebook import tqdm as notebook_tqdm\n"
     ]
    }
   ],
   "source": [
    "import torch"
   ]
  },
  {
   "cell_type": "code",
   "execution_count": 3,
   "metadata": {},
   "outputs": [],
   "source": [
    "# Создайте случайный FloatTensor размера 3x4x5"
   ]
  },
  {
   "cell_type": "code",
   "execution_count": 40,
   "metadata": {},
   "outputs": [
    {
     "name": "stdout",
     "output_type": "stream",
     "text": [
      "torch.FloatTensor\n"
     ]
    },
    {
     "data": {
      "text/plain": [
       "tensor([[[0.7492, 0.4141, 0.9585, 0.5218, 0.7194],\n",
       "         [0.7965, 0.4283, 0.1259, 0.5208, 0.5242],\n",
       "         [0.7933, 0.2636, 0.4172, 0.4343, 0.0699],\n",
       "         [0.1142, 0.7220, 0.3209, 0.3634, 0.4913]],\n",
       "\n",
       "        [[0.8301, 0.6676, 0.8017, 0.2401, 0.5760],\n",
       "         [0.9106, 0.2631, 0.3419, 0.3801, 0.4892],\n",
       "         [0.2369, 0.5654, 0.4751, 0.8733, 0.9345],\n",
       "         [0.4440, 0.1347, 0.3912, 0.2516, 0.8198]],\n",
       "\n",
       "        [[0.2025, 0.2194, 0.8029, 0.6862, 0.8096],\n",
       "         [0.2277, 0.5338, 0.2154, 0.1497, 0.9236],\n",
       "         [0.8255, 0.3186, 0.0413, 0.1597, 0.8445],\n",
       "         [0.0152, 0.1458, 0.9253, 0.8691, 0.2953]]])"
      ]
     },
     "execution_count": 40,
     "metadata": {},
     "output_type": "execute_result"
    }
   ],
   "source": [
    "a = torch.rand(3, 4, 5)\n",
    "print(a.type())\n",
    "a"
   ]
  },
  {
   "cell_type": "code",
   "execution_count": 5,
   "metadata": {},
   "outputs": [],
   "source": [
    "# Выведите его форму (shape)"
   ]
  },
  {
   "cell_type": "code",
   "execution_count": 41,
   "metadata": {},
   "outputs": [
    {
     "data": {
      "text/plain": [
       "torch.Size([3, 4, 5])"
      ]
     },
     "execution_count": 41,
     "metadata": {},
     "output_type": "execute_result"
    }
   ],
   "source": [
    "a.shape"
   ]
  },
  {
   "cell_type": "code",
   "execution_count": 26,
   "metadata": {},
   "outputs": [],
   "source": [
    "# Приведите его к форме 6 X 10"
   ]
  },
  {
   "cell_type": "code",
   "execution_count": 43,
   "metadata": {},
   "outputs": [
    {
     "data": {
      "text/plain": [
       "tensor([[0.7492, 0.4141, 0.9585, 0.5218, 0.7194, 0.7965, 0.4283, 0.1259, 0.5208,\n",
       "         0.5242],\n",
       "        [0.7933, 0.2636, 0.4172, 0.4343, 0.0699, 0.1142, 0.7220, 0.3209, 0.3634,\n",
       "         0.4913],\n",
       "        [0.8301, 0.6676, 0.8017, 0.2401, 0.5760, 0.9106, 0.2631, 0.3419, 0.3801,\n",
       "         0.4892],\n",
       "        [0.2369, 0.5654, 0.4751, 0.8733, 0.9345, 0.4440, 0.1347, 0.3912, 0.2516,\n",
       "         0.8198],\n",
       "        [0.2025, 0.2194, 0.8029, 0.6862, 0.8096, 0.2277, 0.5338, 0.2154, 0.1497,\n",
       "         0.9236],\n",
       "        [0.8255, 0.3186, 0.0413, 0.1597, 0.8445, 0.0152, 0.1458, 0.9253, 0.8691,\n",
       "         0.2953]])"
      ]
     },
     "execution_count": 43,
     "metadata": {},
     "output_type": "execute_result"
    }
   ],
   "source": [
    "b = a.reshape(6, 10)\n",
    "b"
   ]
  },
  {
   "cell_type": "code",
   "execution_count": 35,
   "metadata": {},
   "outputs": [],
   "source": [
    "# Умножьте его на вектор [1, 4, 2, 2, 1] поэлементно"
   ]
  },
  {
   "cell_type": "code",
   "execution_count": 44,
   "metadata": {},
   "outputs": [
    {
     "data": {
      "text/plain": [
       "tensor([1, 4, 2, 2, 1])"
      ]
     },
     "execution_count": 44,
     "metadata": {},
     "output_type": "execute_result"
    }
   ],
   "source": [
    "c = torch.tensor([1, 4, 2, 2, 1])\n",
    "c"
   ]
  },
  {
   "cell_type": "code",
   "execution_count": 45,
   "metadata": {},
   "outputs": [
    {
     "data": {
      "text/plain": [
       "tensor([[[0.7492, 1.6564, 1.9169, 1.0435, 0.7194],\n",
       "         [0.7965, 1.7131, 0.2518, 1.0416, 0.5242],\n",
       "         [0.7933, 1.0542, 0.8344, 0.8687, 0.0699],\n",
       "         [0.1142, 2.8882, 0.6419, 0.7269, 0.4913]],\n",
       "\n",
       "        [[0.8301, 2.6705, 1.6033, 0.4802, 0.5760],\n",
       "         [0.9106, 1.0525, 0.6839, 0.7603, 0.4892],\n",
       "         [0.2369, 2.2617, 0.9502, 1.7467, 0.9345],\n",
       "         [0.4440, 0.5389, 0.7824, 0.5032, 0.8198]],\n",
       "\n",
       "        [[0.2025, 0.8777, 1.6058, 1.3724, 0.8096],\n",
       "         [0.2277, 2.1353, 0.4308, 0.2994, 0.9236],\n",
       "         [0.8255, 1.2746, 0.0826, 0.3195, 0.8445],\n",
       "         [0.0152, 0.5831, 1.8507, 1.7382, 0.2953]]])"
      ]
     },
     "execution_count": 45,
     "metadata": {},
     "output_type": "execute_result"
    }
   ],
   "source": [
    "a.mul(c)"
   ]
  },
  {
   "cell_type": "code",
   "execution_count": 12,
   "metadata": {},
   "outputs": [],
   "source": [
    "# Умножьте тензор матрично на себя, чтобы результат был размерности 6x6"
   ]
  },
  {
   "cell_type": "code",
   "execution_count": 47,
   "metadata": {},
   "outputs": [
    {
     "data": {
      "text/plain": [
       "torch.Size([6, 6])"
      ]
     },
     "execution_count": 47,
     "metadata": {},
     "output_type": "execute_result"
    }
   ],
   "source": [
    "d = b @ b.T\n",
    "d.shape"
   ]
  },
  {
   "cell_type": "code",
   "execution_count": null,
   "metadata": {},
   "outputs": [],
   "source": [
    "# Посчитайте производную функции y = x**3 + z - 75t в точке (1, 0.5, 2)"
   ]
  },
  {
   "cell_type": "code",
   "execution_count": 51,
   "metadata": {},
   "outputs": [
    {
     "data": {
      "text/plain": [
       "tensor(-71.)"
      ]
     },
     "execution_count": 51,
     "metadata": {},
     "output_type": "execute_result"
    }
   ],
   "source": [
    "x = torch.tensor([1, 0.5, 2], requires_grad=True)\n",
    "y = x[0]**3 + x[1] - 75*x[2]\n",
    "y.backward()\n",
    "x.grad.sum()"
   ]
  },
  {
   "cell_type": "code",
   "execution_count": null,
   "metadata": {},
   "outputs": [],
   "source": [
    "# Создайте единичный тензор размера 5x6"
   ]
  },
  {
   "cell_type": "code",
   "execution_count": 48,
   "metadata": {},
   "outputs": [
    {
     "data": {
      "text/plain": [
       "tensor([[1., 1., 1., 1., 1., 1.],\n",
       "        [1., 1., 1., 1., 1., 1.],\n",
       "        [1., 1., 1., 1., 1., 1.],\n",
       "        [1., 1., 1., 1., 1., 1.],\n",
       "        [1., 1., 1., 1., 1., 1.]])"
      ]
     },
     "execution_count": 48,
     "metadata": {},
     "output_type": "execute_result"
    }
   ],
   "source": [
    "e = torch.ones(5, 6)\n",
    "e"
   ]
  },
  {
   "cell_type": "code",
   "execution_count": null,
   "metadata": {},
   "outputs": [],
   "source": [
    "# Переведите его в формат numpy"
   ]
  },
  {
   "cell_type": "code",
   "execution_count": 49,
   "metadata": {},
   "outputs": [
    {
     "data": {
      "text/plain": [
       "array([[1., 1., 1., 1., 1., 1.],\n",
       "       [1., 1., 1., 1., 1., 1.],\n",
       "       [1., 1., 1., 1., 1., 1.],\n",
       "       [1., 1., 1., 1., 1., 1.],\n",
       "       [1., 1., 1., 1., 1., 1.]], dtype=float32)"
      ]
     },
     "execution_count": 49,
     "metadata": {},
     "output_type": "execute_result"
    }
   ],
   "source": [
    "e.numpy()"
   ]
  },
  {
   "cell_type": "code",
   "execution_count": null,
   "metadata": {},
   "outputs": [],
   "source": [
    "# Давайте теперь пооптимизируем: возьмите функцию y = x**w1 - 2 * x**2 + 5\n",
    "# Посчитайте "
   ]
  },
  {
   "cell_type": "code",
   "execution_count": 77,
   "metadata": {},
   "outputs": [
    {
     "data": {
      "text/plain": [
       "(tensor([[[0.9057, 0.4030, 0.6950, 0.8670, 0.3415],\n",
       "          [0.3097, 0.3169, 0.3986, 0.1951, 0.6232],\n",
       "          [0.3826, 0.0944, 0.8744, 0.3367, 0.3703],\n",
       "          [0.7883, 0.5541, 0.3152, 0.1740, 0.3448]],\n",
       " \n",
       "         [[0.5030, 0.3742, 0.7176, 0.9408, 0.9597],\n",
       "          [0.6441, 0.7023, 0.2849, 0.8618, 0.5373],\n",
       "          [0.4974, 0.0677, 0.4997, 0.6532, 0.0342],\n",
       "          [0.4518, 0.3701, 0.8670, 0.0365, 0.7831]],\n",
       " \n",
       "         [[0.2819, 0.2743, 0.5498, 0.6497, 0.7740],\n",
       "          [0.2113, 0.8324, 0.0511, 0.6798, 0.3320],\n",
       "          [0.1345, 0.2888, 0.9574, 0.8739, 0.6510],\n",
       "          [0.0697, 0.1653, 0.8241, 0.0224, 0.1816]]]),\n",
       " tensor([0.9367], requires_grad=True),\n",
       " tensor(0.3401, grad_fn=<MseLossBackward0>))"
      ]
     },
     "execution_count": 77,
     "metadata": {},
     "output_type": "execute_result"
    }
   ],
   "source": [
    "x =  torch.rand(3, 4, 5)\n",
    "w1 = torch.rand(1, requires_grad=True)\n",
    "# x, w1\n",
    "\n",
    "y = x**w1 - 2 * x**2 + 5 \n",
    "sigma = torch.nn.functional.sigmoid(y)\n",
    "mse = torch.nn.functional.mse_loss(sigma, x)\n",
    "x, w1, mse"
   ]
  },
  {
   "cell_type": "code",
   "execution_count": 78,
   "metadata": {},
   "outputs": [
    {
     "data": {
      "text/plain": [
       "tensor([[[4.2707, 5.1021, 4.7451, 4.3715, 5.1323],\n",
       "         [5.1417, 5.1400, 5.1047, 5.1402, 4.8654],\n",
       "         [5.1138, 5.0918, 4.3526, 5.1340, 5.1201],\n",
       "         [4.5574, 4.9612, 5.1404, 5.1338, 5.1311]],\n",
       "\n",
       "        [[5.0194, 5.1182, 4.7030, 4.1743, 4.1201],\n",
       "         [4.8326, 4.7318, 5.1461, 4.3846, 4.9814],\n",
       "         [5.0251, 5.0711, 5.0228, 4.8177, 5.0400],\n",
       "         [5.0669, 5.1202, 4.3714, 5.0424, 4.5689]],\n",
       "\n",
       "        [[5.1465, 5.1472, 4.9665, 4.8235, 4.5885],\n",
       "         [5.1439, 4.4563, 5.0565, 4.7724, 5.1356],\n",
       "         [5.1166, 5.1456, 4.1269, 4.3540, 4.8214],\n",
       "         [5.0728, 5.1306, 4.4759, 5.0275, 5.1364]]], grad_fn=<AddBackward0>)"
      ]
     },
     "execution_count": 78,
     "metadata": {},
     "output_type": "execute_result"
    }
   ],
   "source": [
    "y = x**w1 - 2 * x**2 + 5 \n",
    "y"
   ]
  },
  {
   "cell_type": "code",
   "execution_count": 79,
   "metadata": {},
   "outputs": [],
   "source": [
    "mse.backward()"
   ]
  },
  {
   "cell_type": "code",
   "execution_count": 80,
   "metadata": {},
   "outputs": [
    {
     "data": {
      "text/plain": [
       "tensor([-0.0020])"
      ]
     },
     "execution_count": 80,
     "metadata": {},
     "output_type": "execute_result"
    }
   ],
   "source": [
    "w1.grad"
   ]
  },
  {
   "cell_type": "code",
   "execution_count": null,
   "metadata": {},
   "outputs": [],
   "source": []
  }
 ],
 "metadata": {
  "kernelspec": {
   "display_name": "Python 3 (ipykernel)",
   "language": "python",
   "name": "python3"
  },
  "language_info": {
   "codemirror_mode": {
    "name": "ipython",
    "version": 3
   },
   "file_extension": ".py",
   "mimetype": "text/x-python",
   "name": "python",
   "nbconvert_exporter": "python",
   "pygments_lexer": "ipython3",
   "version": "3.10.8"
  }
 },
 "nbformat": 4,
 "nbformat_minor": 4
}
